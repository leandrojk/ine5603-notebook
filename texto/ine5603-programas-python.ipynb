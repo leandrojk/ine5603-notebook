{
 "cells": [
  {
   "cell_type": "markdown",
   "metadata": {},
   "source": [
    "#### Universidade Federal de Santa Catarina\n",
    "#### Centro Tecnológico\n",
    "#### Departamento de Informática e Estatística\n",
    "\n",
    "### INE5603 Introdução à Programação Orientada a Objetos\n",
    "#### Professor Leandro José Komosinski\n"
   ]
  },
  {
   "cell_type": "markdown",
   "metadata": {},
   "source": [
    "# Programas Python"
   ]
  },
  {
   "cell_type": "markdown",
   "metadata": {},
   "source": [
    "Um algoritmo é um texto que define um conjunto de ações que, ao serem realizadas, encontram a solução de um problema. Um programa de computador é um algoritmo escrito em alguma linguagem de programação.\n",
    "\n",
    "Um **programa escrito em Python** é formado por uma sequência de comandos (atribuição, seleção e repetição) e, frequentemente, também por definições (de funções e de classes).\n",
    "\n",
    "Considere, como exemplo, o problema de encontrar o menor de três números. Assim, por exemplo se os números forem 9, 3, 13 a solução do problema é o número 3.\n",
    "\n",
    "Vamos ver como este problema pode ser resolvido automaticamente por um computador. Há várias formas de fazer isso."
   ]
  },
  {
   "cell_type": "markdown",
   "metadata": {},
   "source": [
    "## Solução 1\n",
    "Nesta solução considere que os três números em questão estão definidos no próprio programa. Nesse caso, deve-se criar um arquivo, por exemplo, chamado `programa1.py`, cujo conteúdo é o seguinte:"
   ]
  },
  {
   "cell_type": "code",
   "execution_count": 10,
   "metadata": {},
   "outputs": [
    {
     "name": "stdout",
     "output_type": "stream",
     "text": [
      "Primeiro número: 9\n",
      "Segundo número: 3\n",
      "Terceiro número: 13\n",
      "Menor número: 3\n"
     ]
    }
   ],
   "source": [
    "# Programa que encontra o menor de três números\n",
    "# Solução 1\n",
    "\n",
    "\n",
    "# Parte 1 : definição dos dados para resolver o problema\n",
    "n1 = 9\n",
    "n2 = 3\n",
    "n3 = 13\n",
    "\n",
    "# Parte 2 : resolução do problema\n",
    "menor = n1\n",
    "if n2 < menor:\n",
    "    menor = n2\n",
    "if n3 < menor:\n",
    "    menor = n3\n",
    "\n",
    "# Parte 3 : exibição da solução do problema\n",
    "print('Primeiro número:', n1)\n",
    "print('Segundo número:', n2)\n",
    "print('Terceiro número:', n3)\n",
    "print('Menor número:', menor)"
   ]
  },
  {
   "cell_type": "markdown",
   "metadata": {},
   "source": [
    "Observe que o programa é formado por três partes. Cada parte tem uma finalidade bem específica.\n",
    "\n",
    "### Parte 1\n",
    "A parte 1 é responsável pela definição do problema específico que se deseja resolver. No caso, o problema específico é encontrar o menor entre os números 9, 3 e 12. Assim o comando de atribuição (em Python representado por `=` é utilizado três vezes para definir o valor das variáveis `n1`, `n2`e `n3`.\n",
    "\n",
    "### Parte 2\n",
    "A parte 2 é responsável pela resolução do problema. No caso, a variável `menor` representa a solução do problema. A sequência de três comandos (atribuição e seleção duas vezes) resolvem o problema.\n",
    "\n",
    "### Parte 3\n",
    "A parte 3 é responsável por mostrar ao usuário a solução do problema. No caso está sendo usada a funcão `print` para mostrar na tela quais foram os três números considerados e qual é a solução do problema (o valor da variável `menor`)."
   ]
  },
  {
   "cell_type": "markdown",
   "metadata": {},
   "source": [
    "### Comentários sobre a solução 1\n",
    "Na solução 1, se quisermos resolver outro problema específico, digamos o menor entre os números 78, 34,20, é necessário alterar o programa, especificamente a Parte 1.\n",
    "\n",
    "Não é muito prático ter que alterar o programa cada vez que se deseja encontrar o menor de três novos números."
   ]
  },
  {
   "cell_type": "markdown",
   "metadata": {},
   "source": [
    "## Solução 2\n",
    "Nesta solução, baseada na solução 1, altera-se a Parte 1 de modo que o programa solicite que o usuário digite os três números. Com isso fica resolvido o problema descrito nos comentários da solução 1.\n",
    "\n",
    "O programa com a nova solução poderia ficar armazenado no arquivo `programa2.py`. A solução fica assim:"
   ]
  },
  {
   "cell_type": "code",
   "execution_count": 12,
   "metadata": {},
   "outputs": [
    {
     "name": "stdout",
     "output_type": "stream",
     "text": [
      "Digite o primeiro número : 78\n",
      "Digite o segundo número : 34\n",
      "Digite o terceiro número : 20\n",
      "Menor número: 20\n"
     ]
    }
   ],
   "source": [
    "# Programa que encontra o menor de três números\n",
    "# Solução 2\n",
    "\n",
    "\n",
    "# Parte 1 : definição dos dados para resolver o problema\n",
    "n1 = int(input('Digite o primeiro número : '))\n",
    "n2 = int(input('Digite o segundo número : '))\n",
    "n3 = int(input('Digite o terceiro número : '))\n",
    "\n",
    "# Parte 2 : resolução do problema\n",
    "menor = n1\n",
    "if n2 < menor:\n",
    "    menor = n2\n",
    "if n3 < menor:\n",
    "    menor = n3\n",
    "\n",
    "# Parte 3 : exibição da solução do problema\n",
    "print('Menor número:', menor)"
   ]
  },
  {
   "cell_type": "markdown",
   "metadata": {},
   "source": [
    "### Comentário sobre a solução 2\n",
    "Observe que a Parte 2 das soluções 1 e 2 é exatamente a mesma. Isso é muito importante: não importa como o valor dos três números é definido (no próprio programa ou perguntando ao usuário), o algoritmo que encontra o menor dos três números é sempre o mesmo. E também não importa como a solução do problema será mostrada ao usuário.\n",
    "\n",
    "Em resumo, a parte 2 é sempre a mesma. As partes 1 e 3 podem variar dependendo de como se deseja definir o valor dos números e como a resposta será mostrada ao  usuário."
   ]
  },
  {
   "cell_type": "markdown",
   "metadata": {},
   "source": [
    "## Solução 3\n",
    "O conceito de **função** permite deixar mais claro qual problema é resolvido por uma parte do programa. \n",
    "\n",
    "A solução mostrada a seguir define a função **menor_de_tres** que, como o nome indica, consegue encontrar o menor de três números. \n",
    "\n",
    "Observe que, agora, a parte 2 ficou limitada a uma única linha. O valor da variável `menor` será o valor calculado pela função `menor_de_tres`.\n",
    "\n",
    "Esta solução, que poderia estar armazenada no arquivo `programa3.py`, ficaria assim:"
   ]
  },
  {
   "cell_type": "code",
   "execution_count": 13,
   "metadata": {},
   "outputs": [
    {
     "name": "stdout",
     "output_type": "stream",
     "text": [
      "Digite o primeiro número : 56\n",
      "Digite o segundo número : 23\n",
      "Digite o terceiro número : 99\n",
      "Menor número: 23\n"
     ]
    }
   ],
   "source": [
    "# Programa que encontra o menor de três números\n",
    "# Solução 3\n",
    "\n",
    "\n",
    "# função que encontra o menor de três números\n",
    "def menor_de_tres(numero1, numero2, numero3):\n",
    "    menor_numero = numero1\n",
    "    if numero2 < menor_numero:\n",
    "        menor_numero = numero2\n",
    "    if numero3 < menor_numero:\n",
    "        menor_numero = numero3\n",
    "    return menor_numero\n",
    "\n",
    "# Parte 1 : definição dos dados para resolver o problema\n",
    "n1 = int(input('Digite o primeiro número : '))\n",
    "n2 = int(input('Digite o segundo número : '))\n",
    "n3 = int(input('Digite o terceiro número : '))\n",
    "\n",
    "# Parte 2 : resolução do problema\n",
    "menor = menor_de_tres(n1, n2, n3)\n",
    "\n",
    "# Parte 3 : exibição da solução do problema\n",
    "print('Menor número:', menor)"
   ]
  },
  {
   "cell_type": "markdown",
   "metadata": {},
   "source": [
    "### Comentários sobre a solução 3\n",
    "\n",
    "Pensando sobre a função `menor_de_tres` poderíamos perceber que este pedaço de programa pode ser usado em outros programas. Sempre que, em um programa, tivermos que encontrar o menor de três números podemos lembrar que este problema já foi resolvido um dia. Então basta encontrar o arquivo onde a função aparece e fazer um Ctrl-C - Ctrl-V (copiar e colar) para o arquivo que contém o programa que estamos escrevendo.\n",
    "\n",
    "A ideia de copiar e colar é interessante mas possui alguns inconvenientes: é preciso lembrar que o problema de encontrar o menor de três números um dia já foi resolvido; é preciso lembrar em qual arquivo a função foi escrita; é preciso lembrar o nome da função (no caso, `menor_de_tres`). Na prática, depois de muito tempo e depois de muitos programas escritos, fica cada vez mais difícil lembrar disso tudo."
   ]
  },
  {
   "cell_type": "markdown",
   "metadata": {},
   "source": [
    "## Solução 4\n",
    "A ideia de aproveitar um pedaço de programa em outro programa é bem conhecida entre os desenvolvedores de software. No lugar de usar a estratégia *copiar e colar* , a estratégia correta é colocar todo pedaço de código que pode ser reaproveitado em um arquivo específico. Forma-se então o que é conhecido como **biblioteca de funções**. Uma biblioteca nada mais é do que um conjunto de arquivos que contêm funções que podem ser incorporadas em novos programas.\n",
    "\n",
    "A função `menor_de_tres` poderia ser escrita no arquivo `calculos.py`.  Este arquivo contém apenas funções. Seu conteúdo seria o seguinte:"
   ]
  },
  {
   "cell_type": "code",
   "execution_count": null,
   "metadata": {},
   "outputs": [],
   "source": [
    "# arquivo calculos.py\n",
    "\n",
    "# função que encontra o menor de três números\n",
    "def menor_de_tres(numero1, numero2, numero3):\n",
    "    menor_numero = numero1\n",
    "    if numero2 < menor_numero:\n",
    "        menor_numero = numero2\n",
    "    if numero3 < menor_numero:\n",
    "        menor_numero = numero3\n",
    "    return menor_numero"
   ]
  },
  {
   "cell_type": "markdown",
   "metadata": {},
   "source": [
    "Com isso fica \"oficializado\" que o arquivo `calculos.py` é o local onde devemos procurar por funções já desenvolvidas. A solução 4, mostrada a seguir, permite realizar **automaticamente** a tarefa de copiar e colar a função `menor_de_tres` para dentro do programa."
   ]
  },
  {
   "cell_type": "code",
   "execution_count": 1,
   "metadata": {},
   "outputs": [
    {
     "name": "stdout",
     "output_type": "stream",
     "text": [
      "Digite o primeiro número : 77\n",
      "Digite o segundo número : 23\n",
      "Digite o terceiro número : 1\n",
      "Menor número: 1\n"
     ]
    }
   ],
   "source": [
    "# Programa que encontra o menor de três números\n",
    "# Solução 4\n",
    "\n",
    "from calculos import menor_de_tres\n",
    "\n",
    "# Parte 1 : definição dos dados para resolver o problema\n",
    "n1 = int(input('Digite o primeiro número : '))\n",
    "n2 = int(input('Digite o segundo número : '))\n",
    "n3 = int(input('Digite o terceiro número : '))\n",
    "\n",
    "# Parte 2 : resolução do problema\n",
    "menor = menor_de_tres(n1, n2, n3)\n",
    "\n",
    "# Parte 3 : exibição da solução do problema\n",
    "print('Menor número:', menor)"
   ]
  }
 ],
 "metadata": {
  "kernelspec": {
   "display_name": "Python 3",
   "language": "python",
   "name": "python3"
  },
  "language_info": {
   "codemirror_mode": {
    "name": "ipython",
    "version": 3
   },
   "file_extension": ".py",
   "mimetype": "text/x-python",
   "name": "python",
   "nbconvert_exporter": "python",
   "pygments_lexer": "ipython3",
   "version": "3.6.6"
  }
 },
 "nbformat": 4,
 "nbformat_minor": 2
}
