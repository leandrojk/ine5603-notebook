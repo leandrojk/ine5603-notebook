{
 "cells": [
  {
   "cell_type": "markdown",
   "metadata": {},
   "source": [
    "#### Universidade Federal de Santa Catarina\n",
    "#### Centro Tecnológico\n",
    "#### Departamento de Informática e Estatística\n",
    "\n",
    "### INE5603 Introdução à Programação Orientada a Objetos\n",
    "#### Professor Leandro José Komosinski\n",
    "\n",
    "# Comandos\n",
    "Escrever um programa de computador significa escrever um texto cujo conteúdo são comandos que deverão ser executados pelo computador. Precisamos então saber quais coisas um computador é capaz de compreender e executar.\n",
    "\n",
    "## Conceitos Preliminares\n",
    "Para compreender quais são os comandos reconhecidos por um computador é preciso saber os conceitos de **expressão** e de **variável**.\n",
    "\n",
    "### Expressões\n",
    "Computadores são capazes de calcular o valor de expressões.\n",
    "\n",
    "#### Expressões Numéricas\n",
    "São expressões cujo valor resultante são números.\n",
    "\n",
    "Por exemplo, as quatro expressões a seguir envolvem as quatro operações aritméticas básicas (soma, multiplicação, subtração e divisão):\n"
   ]
  },
  {
   "cell_type": "code",
   "execution_count": 1,
   "metadata": {},
   "outputs": [
    {
     "data": {
      "text/plain": [
       "11"
      ]
     },
     "execution_count": 1,
     "metadata": {},
     "output_type": "execute_result"
    }
   ],
   "source": [
    "5 + 6"
   ]
  },
  {
   "cell_type": "code",
   "execution_count": 2,
   "metadata": {},
   "outputs": [
    {
     "data": {
      "text/plain": [
       "15"
      ]
     },
     "execution_count": 2,
     "metadata": {},
     "output_type": "execute_result"
    }
   ],
   "source": [
    "3 * 5"
   ]
  },
  {
   "cell_type": "code",
   "execution_count": 3,
   "metadata": {},
   "outputs": [
    {
     "data": {
      "text/plain": [
       "6"
      ]
     },
     "execution_count": 3,
     "metadata": {},
     "output_type": "execute_result"
    }
   ],
   "source": [
    "8 - 2"
   ]
  },
  {
   "cell_type": "code",
   "execution_count": 4,
   "metadata": {},
   "outputs": [
    {
     "data": {
      "text/plain": [
       "4.5"
      ]
     },
     "execution_count": 4,
     "metadata": {},
     "output_type": "execute_result"
    }
   ],
   "source": [
    "9 / 2"
   ]
  },
  {
   "cell_type": "markdown",
   "metadata": {},
   "source": [
    "As expressões numéricas podem ser bem complexas, como as estudadas nas aulas de matemática no ensino fundamental:"
   ]
  },
  {
   "cell_type": "code",
   "execution_count": 5,
   "metadata": {},
   "outputs": [
    {
     "data": {
      "text/plain": [
       "16"
      ]
     },
     "execution_count": 5,
     "metadata": {},
     "output_type": "execute_result"
    }
   ],
   "source": [
    "18 + 10 - 6 * 2"
   ]
  },
  {
   "cell_type": "code",
   "execution_count": 6,
   "metadata": {},
   "outputs": [
    {
     "data": {
      "text/plain": [
       "-27"
      ]
     },
     "execution_count": 6,
     "metadata": {},
     "output_type": "execute_result"
    }
   ],
   "source": [
    "(3 + 6) * (2 - 5)"
   ]
  },
  {
   "cell_type": "markdown",
   "metadata": {},
   "source": [
    "#### Expressões Lógicas\n",
    "Expressões lógicas são expressões cujo valor é verdadeiro ou falso.\n",
    "\n",
    "Por exemplo:"
   ]
  },
  {
   "cell_type": "code",
   "execution_count": 7,
   "metadata": {},
   "outputs": [
    {
     "data": {
      "text/plain": [
       "True"
      ]
     },
     "execution_count": 7,
     "metadata": {},
     "output_type": "execute_result"
    }
   ],
   "source": [
    "6 > 2"
   ]
  },
  {
   "cell_type": "code",
   "execution_count": 8,
   "metadata": {},
   "outputs": [
    {
     "data": {
      "text/plain": [
       "False"
      ]
     },
     "execution_count": 8,
     "metadata": {},
     "output_type": "execute_result"
    }
   ],
   "source": [
    "(6 + 3) < 5"
   ]
  },
  {
   "cell_type": "markdown",
   "metadata": {},
   "source": [
    "A expressão `6 > 2` tem valor verdadeiro (em Python representado pela palavra `True`) pois o número 6 é maior que o número 2. Já a expressão `(6 + 3) < 5` tem valor falso (em Python representado pela palavra `False`) pois o número 9 não é menor que o número 5."
   ]
  },
  {
   "cell_type": "code",
   "execution_count": 9,
   "metadata": {},
   "outputs": [
    {
     "data": {
      "text/plain": [
       "True"
      ]
     },
     "execution_count": 9,
     "metadata": {},
     "output_type": "execute_result"
    }
   ],
   "source": [
    "(8 + 3) == 11"
   ]
  },
  {
   "cell_type": "code",
   "execution_count": 10,
   "metadata": {},
   "outputs": [
    {
     "data": {
      "text/plain": [
       "False"
      ]
     },
     "execution_count": 10,
     "metadata": {},
     "output_type": "execute_result"
    }
   ],
   "source": [
    "(4 * 2) != (7 + 1)"
   ]
  },
  {
   "cell_type": "markdown",
   "metadata": {},
   "source": [
    "A expressão `(8 + 3) == 11` é verdadeira porque o número 11 é igual ao número 11. Em Python, o operador `==` é usado para comparar se o valor da expressão da esquerda (no exemplo `(8 + 3)`) é igual à expressão da direita (no exemplo `11`).\n",
    "\n",
    "A expressão `(4 * 2) != (7 + 1)` é falsa porque o número 8 não é diferente do número 8."
   ]
  },
  {
   "cell_type": "markdown",
   "metadata": {},
   "source": [
    "### Variáveis\n",
    "Computadores compreendem o conceito de variável, as incógnitas da Matemática. \n",
    "\n",
    "Na Matemática utiliza-se letras do final do alfabeto (como `x`, `y` e `z`) para representar incógnitas. Em um programa de computador, o mais comum é utilizar palavras para representar variáveis pois fica mais fácil compreender que informação a variável representa. Por exemplo, é mais fácil usar o nome `salario` do que simplesmente `x` para representar um valor que representa o salário.\n"
   ]
  },
  {
   "cell_type": "markdown",
   "metadata": {},
   "source": [
    "## Comando de Atribuição\n",
    "O comando de atribuição tem o objetivo de determinar o valor de uma variável.\n",
    "\n",
    "Na linguagem Python o comando de atribuição é representado por `=`. No exemplo a seguir, estamos dizendo ao computador que ele registre a informação de que o valor da variável `salario` é igual 12500."
   ]
  },
  {
   "cell_type": "markdown",
   "metadata": {},
   "source": [
    "**Observação**: em Python a *função print* serve para mostrar na tela o valor de uma expressão. Ela é usada nos exemplos a seguir para facilitar a compreensão do conceito que está sendo apresentado."
   ]
  },
  {
   "cell_type": "code",
   "execution_count": 11,
   "metadata": {
    "scrolled": true
   },
   "outputs": [],
   "source": [
    "salario = 12500"
   ]
  },
  {
   "cell_type": "code",
   "execution_count": 12,
   "metadata": {},
   "outputs": [
    {
     "name": "stdout",
     "output_type": "stream",
     "text": [
      "12500\n"
     ]
    }
   ],
   "source": [
    "print(salario)"
   ]
  },
  {
   "cell_type": "markdown",
   "metadata": {},
   "source": [
    "A estrutura do comando de seleção é a seguinte: à esquerda do `=` sempre deve-se escrever uma variável e à direita sempre deve-se escrever uma expressão. O computador calcula o valor da expressão e então define que este valor será o valor da variável.\n",
    "\n",
    "No exemplo acima, a expressão é apenas o número `12500` e, por isso, seu valor é o próprio número.\n",
    "\n",
    "No exemplo a seguir, as variáveis `salario_mensal` e `salario_semanal` representam, respectivamente, um salário mensal e o valor semanal deste salário."
   ]
  },
  {
   "cell_type": "code",
   "execution_count": 13,
   "metadata": {},
   "outputs": [],
   "source": [
    "salario_mensal = 9000\n",
    "salario_semanal = salario_mensal / 4"
   ]
  },
  {
   "cell_type": "code",
   "execution_count": 14,
   "metadata": {},
   "outputs": [
    {
     "name": "stdout",
     "output_type": "stream",
     "text": [
      "9000\n"
     ]
    }
   ],
   "source": [
    "print(salario_mensal)"
   ]
  },
  {
   "cell_type": "code",
   "execution_count": 15,
   "metadata": {},
   "outputs": [
    {
     "name": "stdout",
     "output_type": "stream",
     "text": [
      "2250.0\n"
     ]
    }
   ],
   "source": [
    "print(salario_semanal)"
   ]
  },
  {
   "cell_type": "markdown",
   "metadata": {},
   "source": [
    "Observe que o valor da variável `salario_semanal` é determinado a partir do valor da expressão `salario_mensa / 4`."
   ]
  },
  {
   "cell_type": "markdown",
   "metadata": {},
   "source": [
    "O valor de uma variável pode ser também um valor lógico (verdade ou falso), em Python representados pelas palavras `True` e `False`. No exemplo a seguir, o valor da variável `pode_votar` é `True` pois o valor da expressão `idade >= 16` é verdadeira. Da mesma forma, o valor da variável `pode_dirigir` é `False` pois o valor da expressão `idade >= 18` é falso."
   ]
  },
  {
   "cell_type": "code",
   "execution_count": 16,
   "metadata": {},
   "outputs": [],
   "source": [
    "idade = 17\n",
    "pode_votar = idade >= 16\n",
    "pode_dirigir = idade >= 18"
   ]
  },
  {
   "cell_type": "code",
   "execution_count": 17,
   "metadata": {},
   "outputs": [
    {
     "name": "stdout",
     "output_type": "stream",
     "text": [
      "17\n"
     ]
    }
   ],
   "source": [
    "print(idade)"
   ]
  },
  {
   "cell_type": "code",
   "execution_count": 18,
   "metadata": {},
   "outputs": [
    {
     "name": "stdout",
     "output_type": "stream",
     "text": [
      "True\n"
     ]
    }
   ],
   "source": [
    "print(pode_votar)"
   ]
  },
  {
   "cell_type": "code",
   "execution_count": 19,
   "metadata": {},
   "outputs": [
    {
     "name": "stdout",
     "output_type": "stream",
     "text": [
      "False\n"
     ]
    }
   ],
   "source": [
    "print(pode_dirigir)"
   ]
  },
  {
   "cell_type": "markdown",
   "metadata": {},
   "source": [
    "Observe que o segundo comando de atribuição a seguir é perfeitamente válido (e bastante utilizado na prática):"
   ]
  },
  {
   "cell_type": "code",
   "execution_count": 20,
   "metadata": {},
   "outputs": [],
   "source": [
    "aprovados = 20\n",
    "aprovados = aprovados + 1"
   ]
  },
  {
   "cell_type": "code",
   "execution_count": 21,
   "metadata": {},
   "outputs": [
    {
     "name": "stdout",
     "output_type": "stream",
     "text": [
      "21\n"
     ]
    }
   ],
   "source": [
    "print(aprovados)"
   ]
  },
  {
   "cell_type": "markdown",
   "metadata": {},
   "source": [
    "## Comando de Seleção\n",
    "O comando de seleção seleciona qual ou quais comandos deverão ser executados. O critério de seleção é uma **expressão lógica**. A ideia é a seguinte: se uma expressão lógica tiver valor verdadeiro então um ou mais comandos serão executados. E se o valor da expressão for falso então outro ou outros comandos serão executado.\n",
    "\n",
    "Pode-se imaginar que o comando de seleção contém \"dentro dele\" outros comandos.\n",
    "\n",
    "Em Python o comando de seleção é representado pelas palavras `if` e `else` (*se* e *senão* em inglês). No programa Python a seguir o comando de seleção é usado para determinar o percentual de desconto que deve ser aplicado sobre o salário bruto para calcular o salário líquido."
   ]
  },
  {
   "cell_type": "code",
   "execution_count": 22,
   "metadata": {},
   "outputs": [],
   "source": [
    "salario_bruto = 2500\n",
    "\n",
    "if salario_bruto < 3000:\n",
    "    desconto = 0.12\n",
    "else:\n",
    "    desconto = 0.20\n",
    "    \n",
    "salario_liquido = salario_bruto * (1 - desconto)"
   ]
  },
  {
   "cell_type": "code",
   "execution_count": 23,
   "metadata": {},
   "outputs": [
    {
     "name": "stdout",
     "output_type": "stream",
     "text": [
      "2500\n"
     ]
    }
   ],
   "source": [
    "print(salario_bruto)"
   ]
  },
  {
   "cell_type": "code",
   "execution_count": 24,
   "metadata": {},
   "outputs": [
    {
     "name": "stdout",
     "output_type": "stream",
     "text": [
      "0.12\n"
     ]
    }
   ],
   "source": [
    "print(desconto)"
   ]
  },
  {
   "cell_type": "code",
   "execution_count": 25,
   "metadata": {},
   "outputs": [
    {
     "name": "stdout",
     "output_type": "stream",
     "text": [
      "2200.0\n"
     ]
    }
   ],
   "source": [
    "print(salario_liquido)"
   ]
  },
  {
   "cell_type": "markdown",
   "metadata": {},
   "source": [
    "**Importante:** o uso do `else` é opcional, ou seja, podemos usar o comando de seleção para apenas decidir se um ou mais comando devem ser executados.\n",
    "\n",
    "**MUITO IMPORTANTE:** em Python os comandos que estão dentro do comando de seleção devem ser escritos com um espaçamento (em geral 2 ou 4 caracteres) em relação ao comando de seleção."
   ]
  },
  {
   "cell_type": "markdown",
   "metadata": {},
   "source": [
    "### Expressões usando if\n",
    "\n",
    "A ideia do comando de seleção _if_ pode ser usada para definir um tipo de operador chamado __operador ternário__. \n",
    "\n",
    "Veja o programa abaixo:"
   ]
  },
  {
   "cell_type": "code",
   "execution_count": 26,
   "metadata": {},
   "outputs": [
    {
     "name": "stdout",
     "output_type": "stream",
     "text": [
      "aprovado\n"
     ]
    }
   ],
   "source": [
    "nota = 8\n",
    "if nota >= 5.75:\n",
    "    situacao = 'aprovado'\n",
    "else:\n",
    "    situacao = 'reprovado'\n",
    "    \n",
    "print(situacao)"
   ]
  },
  {
   "cell_type": "markdown",
   "metadata": {},
   "source": [
    "O código acima pode ser reescrito utilizando o operador ternário:"
   ]
  },
  {
   "cell_type": "code",
   "execution_count": 27,
   "metadata": {},
   "outputs": [
    {
     "name": "stdout",
     "output_type": "stream",
     "text": [
      "aprovado\n"
     ]
    }
   ],
   "source": [
    "nota = 8\n",
    "situacao = 'aprovado' if nota >= 5.75 else 'reprovado'\n",
    "print(situacao)"
   ]
  },
  {
   "cell_type": "markdown",
   "metadata": {},
   "source": [
    "Veja que a palavra _if_ agora aparece como parte de uma expressão. O valor da variável _situacao_ será o valor da expressão que aparece à deireita do comando de atribuição _=_."
   ]
  },
  {
   "cell_type": "markdown",
   "metadata": {},
   "source": [
    "## Comandos de Repetição\n",
    "Um comando de repetição tem o objetivo de fazer com que um ou mais comandos sejam executados repetidas vezes.\n",
    "\n",
    "Há duas situações possíveis: quando é possível determinar quantas vezes os comandos devem ser executados e quando não é possível determinar o número de repetições. Em Python, para cada um dos casos há um comando de repetição específico.\n",
    "\n",
    "### Comando for\n",
    "O comando `for` deve ser usado quando sabemos exatamente quantas vezes um ou mais comandos devem ser executados.\n",
    "\n",
    "Por exemplo, o programa abaixo faz com que o comando `total = total + 10` seja executado 5 vezes."
   ]
  },
  {
   "cell_type": "code",
   "execution_count": 28,
   "metadata": {},
   "outputs": [],
   "source": [
    "total = 10\n",
    "for i in range(5):\n",
    "    total = total + 10"
   ]
  },
  {
   "cell_type": "code",
   "execution_count": 29,
   "metadata": {},
   "outputs": [
    {
     "name": "stdout",
     "output_type": "stream",
     "text": [
      "60\n"
     ]
    }
   ],
   "source": [
    "print(total)"
   ]
  },
  {
   "cell_type": "markdown",
   "metadata": {},
   "source": [
    "O número de repetições está vinculado à função `range`. Podemos saber qual repetição (primeira, segunda, terceira, etc) está sendo executada. No exemplo anterior a variável `i` armazena um número que representa qual repetição. Mas atenção: a primeira repetição é identificada com o número zero."
   ]
  },
  {
   "cell_type": "code",
   "execution_count": 30,
   "metadata": {},
   "outputs": [
    {
     "name": "stdout",
     "output_type": "stream",
     "text": [
      "0\n",
      "1\n",
      "2\n",
      "3\n",
      "4\n"
     ]
    }
   ],
   "source": [
    "for i in range(5):\n",
    "    print(i)"
   ]
  },
  {
   "cell_type": "markdown",
   "metadata": {},
   "source": [
    "#### Variações do comando for com a função range\n",
    "\n",
    "Além da forma já mostrada, a função range pode ser usada no **comando for** de outras maneiras:\n"
   ]
  },
  {
   "cell_type": "code",
   "execution_count": 31,
   "metadata": {},
   "outputs": [
    {
     "name": "stdout",
     "output_type": "stream",
     "text": [
      "1\n",
      "2\n",
      "3\n",
      "4\n"
     ]
    }
   ],
   "source": [
    "for i in range(1, 5):\n",
    "    print(i)"
   ]
  },
  {
   "cell_type": "code",
   "execution_count": 32,
   "metadata": {},
   "outputs": [
    {
     "name": "stdout",
     "output_type": "stream",
     "text": [
      "3\n",
      "4\n",
      "5\n",
      "6\n",
      "7\n"
     ]
    }
   ],
   "source": [
    "for i in range(3, 8):\n",
    "    print(i)"
   ]
  },
  {
   "cell_type": "code",
   "execution_count": 33,
   "metadata": {},
   "outputs": [
    {
     "name": "stdout",
     "output_type": "stream",
     "text": [
      "1\n",
      "3\n",
      "5\n",
      "7\n",
      "9\n"
     ]
    }
   ],
   "source": [
    "for i in range(1, 10, 2):\n",
    "    print(i)"
   ]
  },
  {
   "cell_type": "code",
   "execution_count": 34,
   "metadata": {},
   "outputs": [
    {
     "name": "stdout",
     "output_type": "stream",
     "text": [
      "10\n",
      "9\n",
      "8\n",
      "7\n",
      "6\n",
      "5\n",
      "4\n",
      "3\n",
      "2\n"
     ]
    }
   ],
   "source": [
    "for i in range(10, 1, -1):\n",
    "    print(i)"
   ]
  },
  {
   "cell_type": "markdown",
   "metadata": {},
   "source": [
    "### Comando while\n",
    "O comando `while` faz com que um ou mais comandos \"dentro dele\" sejam executados enquanto uma expressão for verdadeira.\n",
    "\n",
    "No exemplo a seguir a função `randrange`, que faz parte da biblioteca Python, produz um número aleatório entre 0 e 9. Aleatório significa que não temos como saber qual dos dez números será produzido.\n",
    "\n",
    "Qual será o valor da variável `x` depois que o comando `while` terminar sua execução? Não temos como saber pois não sabemos quantas vezes o comando `x = x + 1` será executado. Talvez o valor de `x` seja zero pois o primeiro número aleatório pode ser 5. Neste caso os dois comandos de atribuição existentes dentro do comando `while` não serão executados nenhuma vez. "
   ]
  },
  {
   "cell_type": "code",
   "execution_count": 35,
   "metadata": {},
   "outputs": [
    {
     "name": "stdout",
     "output_type": "stream",
     "text": [
      "1\n"
     ]
    }
   ],
   "source": [
    "from random import randrange\n",
    "\n",
    "x = 0\n",
    "aleatorio = randrange(10)\n",
    "while aleatorio != 5:\n",
    "    x = x + 1\n",
    "    aleatorio = randrange(10)\n",
    "print(x)"
   ]
  },
  {
   "cell_type": "markdown",
   "metadata": {},
   "source": [
    "# Resumindo\n",
    "Um programa de computador é formado por **variáveis** e por **comandos**. Variáveis servem para representar dados, informações pertinentes ao problema que deseja resolver. Comandos servem para atribuir valores para as variáveis e para determinar quais e quantas vezes comandos devem ser executados."
   ]
  },
  {
   "cell_type": "markdown",
   "metadata": {},
   "source": [
    "# Exercício \n",
    "Escrever um programa que identifica o menor de três números. O programa Python que resolve este problema poderia ser o seguinte:"
   ]
  },
  {
   "cell_type": "code",
   "execution_count": 36,
   "metadata": {},
   "outputs": [],
   "source": [
    "# n1 representa o primeiro número\n",
    "# n2 representa o segundo número\n",
    "# n3 representa o terceiro número\n",
    "# menor representa o menor dos três números\n",
    "\n",
    "# Parte 1: definição dos 3 números\n",
    "n1 = 8\n",
    "n2 = 4\n",
    "n3 = 16\n",
    "\n",
    "# Parte 2: sequência de comandos que determinam o menor dos números\n",
    "menor = n1\n",
    "if n2 < menor:\n",
    "    menor = n2\n",
    "if n3 < menor:\n",
    "    menor = n3"
   ]
  },
  {
   "cell_type": "code",
   "execution_count": 37,
   "metadata": {},
   "outputs": [
    {
     "name": "stdout",
     "output_type": "stream",
     "text": [
      "4\n"
     ]
    }
   ],
   "source": [
    "print(menor)"
   ]
  },
  {
   "cell_type": "markdown",
   "metadata": {},
   "source": [
    "# Função\n",
    "Observe que no exercício que identifica o menor dos três números o programa pode ser visto como sendo formado por duas partes. A primeira parte é responsável por definir quais são os três números a serem analisados. A segunda parte é responsável por identificar o menor dos três números.\n",
    "\n",
    "A segunda parte funciona para quaisquer números. Isso permite que transformemos esta parte em uma **função**."
   ]
  },
  {
   "cell_type": "markdown",
   "metadata": {},
   "source": [
    "A função `encontra_menor_de_tres` abaixo é uma espécie de miniprograma especializado em resolver um problema específico: encontrar o menor de três números. A última linha, `return menor` significa, em português, algo como \"a solução do problema é o valor da variável `menor`\". **return é um comando** cujo objetivo é terminar a execução do algoritmo produzindo uma informação.\n",
    "\n",
    "Com o conceito de função podemos resolver vários problemas com mais facilidade. Por exemplo, se precisamos encontrar o menor de três números duas vezes basta invocar a função duas vezes."
   ]
  },
  {
   "cell_type": "code",
   "execution_count": 38,
   "metadata": {},
   "outputs": [],
   "source": [
    "def encontra_menor_de_tres(numero1, numero2, numero3):\n",
    "    menor = numero1\n",
    "    if numero2 < menor:\n",
    "        menor = numero2\n",
    "    if numero3 < menor:\n",
    "        menor = numero3\n",
    "    return menor\n",
    "\n",
    "n1 = 200\n",
    "n2 = 765\n",
    "n3 = 90\n",
    "\n",
    "menor1 = encontra_menor_de_tres(n1, n2, n3)\n",
    "menor2 = encontra_menor_de_tres(2, 34, 9)"
   ]
  },
  {
   "cell_type": "code",
   "execution_count": 39,
   "metadata": {},
   "outputs": [
    {
     "name": "stdout",
     "output_type": "stream",
     "text": [
      "90\n",
      "2\n"
     ]
    }
   ],
   "source": [
    "print(menor1)\n",
    "print(menor2)"
   ]
  }
 ],
 "metadata": {
  "kernelspec": {
   "display_name": "Python 3",
   "language": "python",
   "name": "python3"
  },
  "language_info": {
   "codemirror_mode": {
    "name": "ipython",
    "version": 3
   },
   "file_extension": ".py",
   "mimetype": "text/x-python",
   "name": "python",
   "nbconvert_exporter": "python",
   "pygments_lexer": "ipython3",
   "version": "3.6.7"
  }
 },
 "nbformat": 4,
 "nbformat_minor": 2
}
