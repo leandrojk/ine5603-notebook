{
 "cells": [
  {
   "cell_type": "markdown",
   "metadata": {},
   "source": [
    "##### Universidade Federal de Santa Catarina\n",
    "##### Centro Tecnológico\n",
    "##### Departamento de Informática e Estatística\n",
    "### INE5603 Introdução à Programação Orientada a Objetos\n",
    "#### Professor Leandro José Komosinski\n",
    "\n",
    "# Interface com o Usuário\n",
    "\n",
    "A expressão **Interface com o Usuário** significa a parte do programa de computador responsável por:\n",
    "\n",
    "* **exibir informações** para a pessoa que usa o programa.\n",
    "* **obter informações** da pessoa que usa o programa.\n",
    "\n",
    "A ideia central é que **durante a execução do programa** deve-se, por conveniência ou por necessidade, exibir e/ou solicitar informações ao usuário que está acompanhando a execução.\n",
    "\n",
    "## Dispositivos de Entrada e de Saída\n",
    "A interação entre um programa de computador e uma pessoa, o usuário do programa, é feita por meio de **dispositivos de entrada e de saída** acoplados ao computador.\n",
    "\n",
    "### Dispositivos de Saída\n",
    "Dispositivos de saída permitem que o programa exiba informações ao usuário. Exemplos: monitor de vídeo, caixa de som e impressora.\n",
    "\n",
    "\n",
    "### Dispositivos de Entrada\n",
    "Dispositivos de entrada permitem que o usuário insira dados durante a execução do programa. Exemplos: teclado, mouse, telas sensíveis ao toque, microfone.\n",
    "\n",
    "## Tipos de Interface com o Usuário\n",
    "Os primeiros monitores de vídeo permitiam apenas a exibição de caracteres na tela. A tela tinha cor de fundo preta e os caracteres tinham cor verde ou branco. \n",
    "\n",
    "Esse tipo de interface, formado apenas por caracteres, é chamdado de **interface em modo texto**.\n",
    "\n",
    "A evolução tecnológica permitiu a criação de monitores capazes de exibir pixels (pontos coloridos). Surgiu então a **interface em modo gráfico**.\n",
    "\n",
    "A maior parte dos programas de computador atuais voltados para o usuário leigo implementa interface em modo gráfico, contendo janelas, botões, caixas de diálogo, etc.\n",
    "\n",
    "Observação: Todos os monitores de computador, incluindo os atuais, podem funcionar tanto em modo texto quanto em modo gráfico.\n",
    "\n",
    "## Interface com o Usuário e Programação Orientada a Objetos\n",
    "Em um programa orientado a objetos a programação da interface com o usuário consiste na identificação de objetos especializados em interagir com o usuário. Cada tipo de objeto é descrito por meio de uma classe.\n",
    "\n",
    "Esta forma de ver a interface com o usuário é válida tanto para interfaces em modo texto como para interfaces em modo gráfico.\n",
    "\n",
    "Hoje em dia, toda linguagem de programação orientada a objetos possui uma biblioteca de classes que facilita a criação de interfaces em modo gráfico.\n",
    "\n",
    "## Interface com o Usuário e Python\n",
    "Como em qualquer linguagem de programação, a tarefa de programar a interface com o usuário de uma aplicação Python fica muito mais simples se for utilizada alguma biblioteca.\n",
    "\n",
    "Se o objetivo for produzir uma interface com o usuário em **modo texto** então pode-se utilizar a biblioteca **curses**, disponível em https://docs.python.org/3/howto/curses.html\n",
    "\n",
    "Se o objetivo for produzir uma interface com o usuário em **modo gráfico** então pode-se utilizar a biblioteca **tkinter**, disponível em https://docs.python.org/3/library/tkinter.html\n",
    "\n",
    "Como acontece em todas as linguagens de programação, a curva de aprendizagem das bibliotecas **curses** e **tkinter** é alta, isto é, é preciso investir bastante tempo até aprender a usar corretamente estas bilbiotecas.\n",
    "\n",
    "Além disso, para aprender a usar as bibliotecas, especialmente a **tkinter**, é necessário conhecer alguns conceitos de programação que não são abordados nesta disciplina tal como hierarquia de classes, classes abstratas e exceções.\n",
    "\n",
    "O mais importante, no contexto da presente disciplina, é **aprender a pensar de modo orientado a objetos quando se deseja programar a interface com o usuário**.\n",
    "\n",
    "Os conceitos básicos para desenvolver uma interface com o usuário, seja ela gráfica ou texto, são exatamente os mesmos.\n",
    "\n",
    "Mais adiante serão mostrados exemplos de interface em modo texto bastante primitivos sem mesmo usar a biblioteca *curses*.\n",
    "\n",
    "\n",
    "### Interface com Usuário em Modo Texto em Python\n",
    "Para desenvolvermos programas escritos em Python que possuam interface com usuário do tipo texto é preciso saber como:\n",
    "\n",
    "* exibir dados na tela.\n",
    "* obter dados digitados pelo usuário.\n",
    "\n",
    "Para cada caso utiliza-se uma **função pré-definida**, ou seja, função que já está disponível para ser usada sem precisarmos instalar nenhum pacote adicional.\n",
    "\n",
    "#### Função print\n",
    "Função `print` é usada para exibir dados da tela. \n",
    "\n",
    "Quando o computador executa `print(<expressão>)` ele avalia a expressão, calculando o seu valor e, em seguida, exibe o valor na tela."
   ]
  },
  {
   "cell_type": "code",
   "execution_count": 1,
   "metadata": {},
   "outputs": [
    {
     "name": "stdout",
     "output_type": "stream",
     "text": [
      "5\n"
     ]
    }
   ],
   "source": [
    "print(5)"
   ]
  },
  {
   "cell_type": "code",
   "execution_count": 2,
   "metadata": {},
   "outputs": [
    {
     "name": "stdout",
     "output_type": "stream",
     "text": [
      "2\n"
     ]
    }
   ],
   "source": [
    "print(10 - 8)"
   ]
  },
  {
   "cell_type": "code",
   "execution_count": 3,
   "metadata": {},
   "outputs": [
    {
     "name": "stdout",
     "output_type": "stream",
     "text": [
      "21\n"
     ]
    }
   ],
   "source": [
    "a = 20\n",
    "print(a + 1)"
   ]
  },
  {
   "cell_type": "code",
   "execution_count": 4,
   "metadata": {},
   "outputs": [
    {
     "name": "stdout",
     "output_type": "stream",
     "text": [
      "Uma mensagem\n"
     ]
    }
   ],
   "source": [
    "b = 'Uma mensagem'\n",
    "print(b)"
   ]
  },
  {
   "cell_type": "markdown",
   "metadata": {},
   "source": [
    "É possível também exibir vários valores na mesma linha. Por exemplo:"
   ]
  },
  {
   "cell_type": "code",
   "execution_count": 5,
   "metadata": {},
   "outputs": [
    {
     "name": "stdout",
     "output_type": "stream",
     "text": [
      "10 20 30\n"
     ]
    }
   ],
   "source": [
    "print(10, 20, 30)"
   ]
  },
  {
   "cell_type": "markdown",
   "metadata": {},
   "source": [
    "#### Função input\n",
    "A função `input` permite que seja feita a leitura de dados digitados no teclaco.\n",
    "\n",
    "A função retorna uma `string` correspondente à sequência de teclas pressionadas."
   ]
  },
  {
   "cell_type": "code",
   "execution_count": 6,
   "metadata": {},
   "outputs": [
    {
     "name": "stdout",
     "output_type": "stream",
     "text": [
      "Digite seu nome:John Doe\n",
      "Você digitou o nome John Doe\n"
     ]
    }
   ],
   "source": [
    "nome = input('Digite seu nome:')\n",
    "print('Você digitou o nome', nome)"
   ]
  },
  {
   "cell_type": "markdown",
   "metadata": {},
   "source": [
    "Frequentemente os programas esperam que o usuário forneça valores numéricos, como idade, altura. A função `input`, como dito, retorna apenas `strings`."
   ]
  },
  {
   "cell_type": "code",
   "execution_count": 7,
   "metadata": {},
   "outputs": [
    {
     "name": "stdout",
     "output_type": "stream",
     "text": [
      "Digite sua idade:43\n",
      "A idade 43 tem 2 letras.\n"
     ]
    }
   ],
   "source": [
    "idade = input('Digite sua idade:')\n",
    "quantas_letras = len(idade)\n",
    "print('A idade', idade, 'tem', quantas_letras, 'letras.')"
   ]
  },
  {
   "cell_type": "markdown",
   "metadata": {},
   "source": [
    "Para converter a string `'112'` no número inteiro `112` devemos usar a função pré-definida `int`:"
   ]
  },
  {
   "cell_type": "code",
   "execution_count": 8,
   "metadata": {},
   "outputs": [
    {
     "name": "stdout",
     "output_type": "stream",
     "text": [
      "Digite sua idade:112\n",
      "True\n"
     ]
    }
   ],
   "source": [
    "idade = int(input('Digite sua idade:'))\n",
    "adulto = idade >= 18\n",
    "print(adulto)"
   ]
  },
  {
   "cell_type": "markdown",
   "metadata": {},
   "source": [
    "Se desejarmos converter a string para número real (ponto flutuante) basta usar a função pré-definida `float`."
   ]
  },
  {
   "cell_type": "markdown",
   "metadata": {},
   "source": [
    "## Projetando Interfaces com o Usuário\n",
    "Para problemas relativamente simples é suficiente definir uma única classe, por exemplo chamada **InterfaceComUsuario**, responsável por realizar toda a interação com o usuário.\n",
    "\n",
    "Para problemas mais complexos, porém,  a recomendação é que a classe responsável pela interação com o usuário utilize diversas outras classes que a auxiliem. Cada uma destas classes deve ser especializada em realizar uma tarefa específica, ligada, naturalmente, à interação com o usuário.\n",
    "\n",
    "Vamos ver isso na prática por meio de um problema exemplo simples: criar um programa Python que permita ao usuário gerenciar uma agenda de contatos telefônicos.\n",
    "\n",
    "### Programa Exemplo - Agenda Telefônica\n",
    "No exemplo, gerenciar os contatos significa que o usuário deve ser capaz de:\n",
    "* adicionar um novo contato na agenda.\n",
    "* exibir os dados de um contato cadastrado.\n",
    "* exibir os dados de todos os contatos cadastrados.\n",
    "\n",
    "### Classes Agenda e Contato\n",
    "Agendas servem para armazenar contatos. Logo, é razoável definirmos duas classes:\n",
    "\n",
    "* Um contato será um objeto da classe `Contato` e armazenará o nome da pessoa, seu número de telefone e seu e-mail.\n",
    "\n",
    "* Uma agenda será um objeto da classe `Agenda` e armazenará objetos da classe `Contato`.\n",
    "\n",
    "Para tornar o exemplo mais simples, os contatos da agenda são armazenados em uma lista e não em um arquivo, como seria necessário em uma aplicação real.\n",
    "\n",
    "Considere que as classes `Contato` e `Agenda` são definidas da seguinte maneira:"
   ]
  },
  {
   "cell_type": "code",
   "execution_count": 9,
   "metadata": {},
   "outputs": [],
   "source": [
    "class Contato:\n",
    "    def __init__(self, nome, telefone, email):\n",
    "        self._nome = nome\n",
    "        self._telefone = telefone\n",
    "        self._email = email\n",
    "        \n",
    "    def nome(self):\n",
    "        return self._nome\n",
    "    \n",
    "    def telefone(self):\n",
    "        return self._telefone\n",
    "    \n",
    "    def email(self):\n",
    "        return self._email\n",
    "    \n",
    "class Agenda:\n",
    "    def __init__(self):\n",
    "        self._contatos = []\n",
    "        \n",
    "        \n",
    "    def obtenha_quantidade(self):\n",
    "        \"\"\"Retorna a quantidade de contatos cadastrados.\n",
    "        \"\"\"\n",
    "        return len(self._contatos)\n",
    "    \n",
    "    def pesquise_por_telefone(self, telefone):\n",
    "        \"\"\"Retorna o contato com o telefone informado.\n",
    "        \"\"\"\n",
    "        num_contatos = len(self._contatos)\n",
    "        contato = None\n",
    "        i = 0\n",
    "        while contato is None and i < num_contatos:\n",
    "            if telefone == self._contatos[i].telefone():\n",
    "                contato = self._contatos[i]\n",
    "            else:\n",
    "                i += 1\n",
    "        return contato\n",
    "    \n",
    "    def pesquise_por_nome(self, fragmento_de_nome):\n",
    "        \"\"\"Retorna os contatos cujo nome casem com o fragmento\n",
    "        de nome informado. Por exemplo, se o fragmento for \"ana\"\n",
    "        então os nomes de contato \"Ana Maria\", \"Rosana\" serão aceitos.\n",
    "        \"\"\"\n",
    "        fragmento = fragmento_de_nome.upper()\n",
    "        contatos = []\n",
    "        for contato in self._contatos:\n",
    "            if contato.nome().upper().find(fragmento) > -1:\n",
    "                contatos.append(contato)\n",
    "        return contatos\n",
    "        \n",
    "    def pesquise_todos(self):\n",
    "        return self._contatos\n",
    "    \n",
    "    def cadastre(self, contato):\n",
    "        if self.pesquise_por_telefone(contato.telefone()) is not None:\n",
    "            cadastrou = False  # telefone já cadastrado\n",
    "        else:\n",
    "            self._contatos.append(contato)\n",
    "            cadastrou = True\n",
    "        return cadastrou\n",
    "            "
   ]
  },
  {
   "cell_type": "markdown",
   "metadata": {},
   "source": [
    "Podemos criar uma agenda e cadastrar um contato:"
   ]
  },
  {
   "cell_type": "code",
   "execution_count": 10,
   "metadata": {},
   "outputs": [
    {
     "name": "stdout",
     "output_type": "stream",
     "text": [
      "True\n"
     ]
    }
   ],
   "source": [
    "agenda = Agenda()\n",
    "resposta = agenda.cadastre(Contato('Fulano', 30251010, 'fulano@g.com'))\n",
    "print(resposta)"
   ]
  },
  {
   "cell_type": "markdown",
   "metadata": {},
   "source": [
    "Mas em um programa real, que possui um usuário real, o gerenciamento da agenda deve ser feito via interface com o usuário. No nosso exemplo, isso será feito via interface modo texto.\n",
    "\n",
    "Antes de começar a programação das classes responsáveis pela interface com o usuário, observe uma coisa **MUITO IMPORTANTE**: note que as classes `Contato` e `Agenda` não utilizam as funções `print` e `input`. Elas puderam ser criadas e testadas sem que fosse necessário pensar de onde vêm os dados que serão armazenados na agenda nem para onde eles irão.\n",
    "\n",
    "Esta forma de programar é um dos princípios fundamentais de qualquer interface com o usuário: as classes que representam os dados do programa não são influenciados, direta ou indiretamente, pela interface com o usuário que será desenvolvida. As duas classes, portanto, poderiam ser usadas tanto em uma versão com interface modo texto quanto com uma versão com interface modo gráfico."
   ]
  },
  {
   "cell_type": "markdown",
   "metadata": {},
   "source": [
    "### Classes de Interface com o Usuário\n",
    "Neste programa exemplo usaremos várias classes para implementar a interface com o usuário.\n",
    "\n",
    "#### Classe InterfaceComUsuario\n",
    "A classe `InterfaceComUsuario` é reponsável por definir como ser dará a interação entre o programa e o usuário. \n",
    "\n",
    "O objeto desta classe contará com a ajuda de uma agenda para cumprir a sua missão.\n",
    "\n",
    "Ela é definida a seguir. Oberve que ela conta com a ajuda de duas outras classes: `Cadastrador` e `Mostrador`.  Um cadastrador, como o nome sujere, é um objeto especializado em resolver o problema de cadastrar um contato na agenda. Um mostrador, por sua vez, é especializado e em mostrar dados da agenda.\n",
    "\n",
    "Assim, a tarefa de implementar a interação com o usuário é realizada, conjuntamente, por três classes: `InterfaceComUsuario`, `Mostrador` e `Cadastrador`."
   ]
  },
  {
   "cell_type": "code",
   "execution_count": 11,
   "metadata": {},
   "outputs": [],
   "source": [
    "class InterfaceComUsuario:\n",
    "    def __init__(self, agenda):\n",
    "        self._agenda = agenda\n",
    "        \n",
    "    def cadastre_contato(self):\n",
    "        cadastrador = Cadastrador()\n",
    "        cadastrador.cadastre(self._agenda)\n",
    "        \n",
    "    def mostre_agenda(self):\n",
    "        mostrador = Mostrador()\n",
    "        mostrador.mostre_todos(self._agenda)\n",
    "        \n",
    "    def mostre_agenda_por_nome(self):\n",
    "        mostrador = Mostrador()\n",
    "        mostrador.mostre_por_nome(self._agenda)\n",
    "        "
   ]
  },
  {
   "cell_type": "markdown",
   "metadata": {},
   "source": [
    "Observe que na classe `InterfaceComUsuario` não estamos preocupados em saber **como** um cadastrador irá cadastrar um contato ou **como** um mostrador irá mostrar os contados da agenda. O que nos interessa saber é **quem irá realizar a tarefa** de cadastrar e de mostrar."
   ]
  },
  {
   "cell_type": "markdown",
   "metadata": {},
   "source": [
    "#### Classe Cadastrador\n",
    "Um objeto da classe `Cadastrador` é responsável por interagir com o usuário para que seja possível cadastrar contatos na agenda. É ele quem define como isso será feito."
   ]
  },
  {
   "cell_type": "code",
   "execution_count": 12,
   "metadata": {},
   "outputs": [],
   "source": [
    "class Cadastrador:\n",
    "    def cadastre(self, agenda):\n",
    "        cadastrar = True\n",
    "        while cadastrar:\n",
    "            print('** Cadastrando Novo Contato **')\n",
    "            telefone = int(input('Digite o telefone: '))\n",
    "            if agenda.pesquise_por_telefone(telefone) is not None:\n",
    "                print('Telefone já cadastrado!')\n",
    "            else:\n",
    "                nome = input('Digite o nome: ')\n",
    "                email = input('Digite o email: ')\n",
    "                agenda.cadastre(Contato(nome, telefone, email))\n",
    "            cadastrar = 's' == input('Cadastrar mais um? [s,n]')\n",
    "        print('** Fim de Cadastro **')"
   ]
  },
  {
   "cell_type": "markdown",
   "metadata": {},
   "source": [
    "#### Classe Mostrador\n",
    "Um objeto da classe `Mostrador` é responsável por interagir com o usuário para que seja possível mostrar os contados da agenda. É este objeto quem define como isso é feito."
   ]
  },
  {
   "cell_type": "code",
   "execution_count": 13,
   "metadata": {},
   "outputs": [],
   "source": [
    "class Mostrador:\n",
    "    def mostre_todos(self, agenda):\n",
    "        print('** Mostrando todos os Contados da Agenda **')\n",
    "        for contato in agenda.pesquise_todos():\n",
    "            self._mostre_contato(contato)\n",
    "        print('** Fim **')\n",
    "            \n",
    "    def mostre_por_nome(self, agenda):\n",
    "        print('** Mostrando Contatos por Nome **')\n",
    "        nome = input('Digite o nome do contato: ')\n",
    "        for contato in agenda.pesquise_por_nome(nome):\n",
    "            self._mostre_contato(contato)\n",
    "        print('** Fim **')\n",
    "        \n",
    "    def _mostre_contato(self, contato):\n",
    "        print('-- Contato:')\n",
    "        print('Nome:', contato.nome())\n",
    "        print('Telefone:', contato.telefone())\n",
    "        print('E-mail:', contato.email())"
   ]
  },
  {
   "cell_type": "markdown",
   "metadata": {},
   "source": [
    "Com a implementação terminada podemos agora escrever o programa que utiliza todas estas classes:"
   ]
  },
  {
   "cell_type": "code",
   "execution_count": 14,
   "metadata": {},
   "outputs": [
    {
     "name": "stdout",
     "output_type": "stream",
     "text": [
      "** Cadastrando Novo Contato **\n",
      "Digite o telefone: 30459045\n",
      "Digite o nome: Fulano de Tal\n",
      "Digite o email: fulano@sempre.com\n",
      "Cadastrar mais um? [s,n]s\n",
      "** Cadastrando Novo Contato **\n",
      "Digite o telefone: 30459045\n",
      "Telefone já cadastrado!\n",
      "Cadastrar mais um? [s,n]s\n",
      "** Cadastrando Novo Contato **\n",
      "Digite o telefone: 30302020\n",
      "Digite o nome: Agamagildo Pena\n",
      "Digite o email: aga_pena@loucos.ru\n",
      "Cadastrar mais um? [s,n]n\n",
      "** Fim de Cadastro **\n",
      "** Mostrando todos os Contados da Agenda **\n",
      "-- Contato:\n",
      "Nome: Fulano de Tal\n",
      "Telefone: 30459045\n",
      "E-mail: fulano@sempre.com\n",
      "-- Contato:\n",
      "Nome: Agamagildo Pena\n",
      "Telefone: 30302020\n",
      "E-mail: aga_pena@loucos.ru\n",
      "** Fim **\n",
      "** Mostrando Contatos por Nome **\n",
      "Digite o nome do contato: Agamagildo Pena\n",
      "-- Contato:\n",
      "Nome: Agamagildo Pena\n",
      "Telefone: 30302020\n",
      "E-mail: aga_pena@loucos.ru\n",
      "** Fim **\n"
     ]
    }
   ],
   "source": [
    "agenda = Agenda()\n",
    "iu = InterfaceComUsuario(agenda)\n",
    "iu.cadastre_contato()\n",
    "iu.mostre_agenda()\n",
    "iu.mostre_agenda_por_nome()"
   ]
  },
  {
   "cell_type": "code",
   "execution_count": null,
   "metadata": {},
   "outputs": [],
   "source": []
  }
 ],
 "metadata": {
  "kernelspec": {
   "display_name": "Python 3",
   "language": "python",
   "name": "python3"
  },
  "language_info": {
   "codemirror_mode": {
    "name": "ipython",
    "version": 3
   },
   "file_extension": ".py",
   "mimetype": "text/x-python",
   "name": "python",
   "nbconvert_exporter": "python",
   "pygments_lexer": "ipython3",
   "version": "3.6.7"
  }
 },
 "nbformat": 4,
 "nbformat_minor": 2
}
