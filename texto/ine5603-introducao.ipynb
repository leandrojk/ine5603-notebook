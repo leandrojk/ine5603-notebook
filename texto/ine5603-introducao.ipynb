{
 "cells": [
  {
   "cell_type": "markdown",
   "metadata": {},
   "source": [
    "#### Universidade Federal de Santa Catarina\n",
    "#### Centro Tecnológico\n",
    "#### Departamento de Informática e Estatística\n",
    "\n",
    "# INE5603 Introdução à Programação Orientada a Objetos\n",
    "## Professor Leandro José Komosinski\n",
    "\n",
    "Texto atualizado em : 27/01/2020\n",
    "\n",
    "\n",
    "# Introdução\n",
    "\n",
    "O objetivo da disciplina INE5603 é ensinar programação de computadores para estudantes universitários. A disciplina é oferecida para os alunos que iniciam o curso de Bacharelado em Sistemas de Informação da Univesidade Federal de Santa Catarina.\n",
    "\n",
    "A disciplina não possui nenhum pré-requisito, ou seja, assume-se que os estudantes não possuem nenhum conhecimento sobre programação de computadores.\n",
    "\n",
    "Aprende a programar um computador significa aprender a resolver problemas utilizando o computador para encontrar a resposta do problema. A disciplina então possui um lado mais teórico (aprender a produzir soluções algorítmicas para os problemas) e um lado prático (aprender a escrever e executar programas de computador).\n",
    "\n",
    "A parte teórica da disciplina está diretamente relacionada ao estilo (paradigma) orientado a objetos, daí o nome da disciplina. Observe que o nome da disciplina poderia ser apenas \"Introdução à Programação\" mas, intencionalmente, tem o complemento \"Orientada a Objetos\". Vamos aprender a **pensar orientado a objetos**.\n",
    "\n",
    "A parte prática da disciplina é realizada desenvolvendo-se pequenos programas de computador escritos na linguagem [Python](https://www.python.org/).\n",
    "\n",
    "## Preparando seu computador\n",
    "Você precisa ter o programa **Python 3** instalada no seu computador. A versão anterior, Python 2, não permite a programação orientada a objetos e só é utilizada em programas muito antigos.\n",
    "\n",
    "Como sugestão, instale também o programa [Visual Studio Code](https://code.visualstudio.com/), também conhecido pela sigla VS Code. Este programa torna bem mais fácil a tarefa de escrever programas de computador.\n",
    "\n",
    "Ambos os programas, **Python e VS Code**, são gratuitos.\n",
    "\n"
   ]
  }
 ],
 "metadata": {
  "kernelspec": {
   "display_name": "Python 3",
   "language": "python",
   "name": "python3"
  },
  "language_info": {
   "codemirror_mode": {
    "name": "ipython",
    "version": 3
   },
   "file_extension": ".py",
   "mimetype": "text/x-python",
   "name": "python",
   "nbconvert_exporter": "python",
   "pygments_lexer": "ipython3",
   "version": "3.6.7"
  }
 },
 "nbformat": 4,
 "nbformat_minor": 2
}
