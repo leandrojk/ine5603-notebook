{
 "cells": [
  {
   "cell_type": "markdown",
   "metadata": {},
   "source": [
    "#### Universidade Federal de Santa Catarina\n",
    "#### Centro Tecnológico\n",
    "#### Departamento de Informática e Estatística\n",
    "\n",
    "### INE5603 Introdução à Programação Orientada a Objetos\n",
    "#### Professor Leandro José Komosinski\n",
    "\n",
    "# Coleções\n",
    "As variáveis, até agora na disciplina, eram usadas para armazenar uma única informação de cada vez. Por exemplo, no código abaixo a variável **v** é usada para armazenar o número 15 e em seguida este valor é substituído por 20.\n"
   ]
  },
  {
   "cell_type": "code",
   "execution_count": 1,
   "metadata": {},
   "outputs": [
    {
     "name": "stdout",
     "output_type": "stream",
     "text": [
      "20\n"
     ]
    }
   ],
   "source": [
    "v = 15\n",
    "v = 20\n",
    "print(v)"
   ]
  },
  {
   "cell_type": "markdown",
   "metadata": {},
   "source": [
    "Na forma como a variável está sendo usada, não é possível que ela represente duas ou mais informações ao mesmo tempo. O **conceito de coleção** abre exatamente esta possibilidade.\n",
    "\n",
    "A linguagem Python disponibiliza vários tipos de coleções. Nesta disciplina usaremos **listas**, **dicionários**, **tuplas** e **cadeias de caracteres**"
   ]
  },
  {
   "cell_type": "markdown",
   "metadata": {},
   "source": [
    "## Listas\n",
    "Uma lista, **list no original em inglês**, permite armazenar vários dados ao mesmo tempo. Por exemplo, a variável *numeros* abaixo armazena 4 números ao mesmo tempo:\n"
   ]
  },
  {
   "cell_type": "code",
   "execution_count": 2,
   "metadata": {},
   "outputs": [],
   "source": [
    "numeros = [24, 6, 12, 88]"
   ]
  },
  {
   "cell_type": "code",
   "execution_count": 3,
   "metadata": {},
   "outputs": [
    {
     "name": "stdout",
     "output_type": "stream",
     "text": [
      "[24, 6, 12, 88]\n"
     ]
    }
   ],
   "source": [
    "print(numeros)"
   ]
  },
  {
   "cell_type": "markdown",
   "metadata": {},
   "source": [
    "Quando, em um programa, usamos a variável *numeros* estamos falando de todos os 4 números. Podemos ter acesso e mesmo modificar cada um dos números individualmente:"
   ]
  },
  {
   "cell_type": "code",
   "execution_count": 4,
   "metadata": {},
   "outputs": [
    {
     "name": "stdout",
     "output_type": "stream",
     "text": [
      "24\n"
     ]
    }
   ],
   "source": [
    "primeiro_numero = numeros[0]\n",
    "print(primeiro_numero)"
   ]
  },
  {
   "cell_type": "code",
   "execution_count": 5,
   "metadata": {},
   "outputs": [
    {
     "name": "stdout",
     "output_type": "stream",
     "text": [
      "88\n"
     ]
    }
   ],
   "source": [
    "ultimo_numero = numeros[3]\n",
    "print(ultimo_numero)"
   ]
  },
  {
   "cell_type": "code",
   "execution_count": 6,
   "metadata": {},
   "outputs": [
    {
     "name": "stdout",
     "output_type": "stream",
     "text": [
      "[24, 6, 100, 88]\n"
     ]
    }
   ],
   "source": [
    "numeros[2] = 100  # altera o terceiro número para 100\n",
    "print(numeros)"
   ]
  },
  {
   "cell_type": "markdown",
   "metadata": {},
   "source": [
    "A expressão entre colchetes que aparece após o nome da variável é chamada de **índice ou posição**."
   ]
  },
  {
   "cell_type": "code",
   "execution_count": 7,
   "metadata": {},
   "outputs": [
    {
     "name": "stdout",
     "output_type": "stream",
     "text": [
      "4\n"
     ]
    }
   ],
   "source": [
    "print(len(numeros))   # escreve na tela a quantidade de números"
   ]
  },
  {
   "cell_type": "markdown",
   "metadata": {},
   "source": [
    "Usando o comando **for** podemos ter acesso a cada um dos números. Há duas maneiras de fazer isso:"
   ]
  },
  {
   "cell_type": "code",
   "execution_count": 8,
   "metadata": {},
   "outputs": [
    {
     "name": "stdout",
     "output_type": "stream",
     "text": [
      "[24, 6, 100, 88]\n"
     ]
    }
   ],
   "source": [
    "print(numeros)"
   ]
  },
  {
   "cell_type": "code",
   "execution_count": 9,
   "metadata": {},
   "outputs": [
    {
     "name": "stdout",
     "output_type": "stream",
     "text": [
      "24\n",
      "6\n",
      "100\n",
      "88\n"
     ]
    }
   ],
   "source": [
    "for numero in numeros:\n",
    "    print(numero)"
   ]
  },
  {
   "cell_type": "code",
   "execution_count": 10,
   "metadata": {},
   "outputs": [
    {
     "name": "stdout",
     "output_type": "stream",
     "text": [
      "24\n",
      "6\n",
      "100\n",
      "88\n"
     ]
    }
   ],
   "source": [
    "for i in range(len(numeros)):\n",
    "    print(numeros[i])"
   ]
  },
  {
   "cell_type": "markdown",
   "metadata": {},
   "source": [
    "A segunda forma de uso do comando **for** é útil quando a posição do número é importante para a solução do problema que se deseja resolver. Por exemplo, se desejarmos aumentar em 5 cada um dos números da lista:"
   ]
  },
  {
   "cell_type": "code",
   "execution_count": 11,
   "metadata": {},
   "outputs": [
    {
     "name": "stdout",
     "output_type": "stream",
     "text": [
      "[24, 6, 100, 88]\n"
     ]
    }
   ],
   "source": [
    "print(numeros)"
   ]
  },
  {
   "cell_type": "code",
   "execution_count": 12,
   "metadata": {},
   "outputs": [
    {
     "name": "stdout",
     "output_type": "stream",
     "text": [
      "[29, 11, 105, 93]\n"
     ]
    }
   ],
   "source": [
    "for i in range(len(numeros)):\n",
    "    numeros[i] = numeros[i] + 5\n",
    "print(numeros)"
   ]
  },
  {
   "cell_type": "markdown",
   "metadata": {},
   "source": [
    "Muitas vezes a posição do número dentro da lista não é relevante para a solução do problema. Por exemplo, se desejarmos obter a soma do números maiores ou iguais a 6:"
   ]
  },
  {
   "cell_type": "code",
   "execution_count": 13,
   "metadata": {},
   "outputs": [
    {
     "name": "stdout",
     "output_type": "stream",
     "text": [
      "35\n"
     ]
    }
   ],
   "source": [
    "numeros = [8, 3, 6, 6, 9, 3]\n",
    "soma = 0\n",
    "for numero in numeros:    # para cada numero exsitente na lista numeros\n",
    "    soma = soma + numero  # observe que a posição do número na lista é irrelevante\n",
    "print(soma)"
   ]
  },
  {
   "cell_type": "markdown",
   "metadata": {},
   "source": [
    "A quantidade de dados que uma lista pode armazenar pode variar durante a execução de um programa. Podemos aumentar e diminiuir a quantidade."
   ]
  },
  {
   "cell_type": "code",
   "execution_count": 14,
   "metadata": {},
   "outputs": [
    {
     "name": "stdout",
     "output_type": "stream",
     "text": [
      "[8, 3, 6, 6, 9, 3]\n"
     ]
    }
   ],
   "source": [
    "print(numeros)"
   ]
  },
  {
   "cell_type": "code",
   "execution_count": 15,
   "metadata": {},
   "outputs": [
    {
     "name": "stdout",
     "output_type": "stream",
     "text": [
      "[8, 3, 6, 6, 9, 3, 10]\n"
     ]
    }
   ],
   "source": [
    "numeros.append(10)   # adiciona o 10 no final da lista\n",
    "print(numeros)"
   ]
  },
  {
   "cell_type": "code",
   "execution_count": 16,
   "metadata": {},
   "outputs": [
    {
     "name": "stdout",
     "output_type": "stream",
     "text": [
      "[8, 6, 6, 9, 3, 10]\n"
     ]
    }
   ],
   "source": [
    "numeros.pop(1)      # retira o número que está na posição 1\n",
    "print(numeros)"
   ]
  },
  {
   "cell_type": "markdown",
   "metadata": {},
   "source": [
    "Com as operações apresentadas podemos começar a resolver problemas mais complexos. Por exemplo, obter uma lista contendo apenas os números menores que 8:"
   ]
  },
  {
   "cell_type": "code",
   "execution_count": 17,
   "metadata": {},
   "outputs": [
    {
     "name": "stdout",
     "output_type": "stream",
     "text": [
      "[3, 6, 3, 1]\n"
     ]
    }
   ],
   "source": [
    "numeros = [3, 9, 10, 6, 3, 9, 8, 1]\n",
    "\n",
    "resposta = []\n",
    "\n",
    "for numero in numeros:\n",
    "    if numero < 8:\n",
    "        resposta.append(numero)\n",
    "        \n",
    "print(resposta)"
   ]
  },
  {
   "cell_type": "markdown",
   "metadata": {},
   "source": [
    "Além do que foi mostrado neste texto, é possível realizar diversas outras operações envolvendo litas. Leia a documentação de Python e descubra as possibilidades."
   ]
  },
  {
   "cell_type": "markdown",
   "metadata": {},
   "source": [
    "## Dicionários\n",
    "Nas listas, como vimos, os dados armazenados são acessados por meio de índices que sempre são números. Por exemplo, para fazermos com que o terceiro número da lista (número com índice 2) seja o valor do primeiro número (número com índice 0) mais 10 escrevemos:"
   ]
  },
  {
   "cell_type": "code",
   "execution_count": 18,
   "metadata": {},
   "outputs": [
    {
     "name": "stdout",
     "output_type": "stream",
     "text": [
      "[9, 2, 19, 1, 8]\n"
     ]
    }
   ],
   "source": [
    "numeros = [9, 2, 3, 1, 8]\n",
    "numeros[2] = numeros[0] + 10\n",
    "print(numeros)"
   ]
  },
  {
   "cell_type": "markdown",
   "metadata": {},
   "source": [
    "Dicionários permitem que outro tipo de informação além de número possa ser usado como índice. Por exemplo, podemos criar um dicionário inglês-português:"
   ]
  },
  {
   "cell_type": "code",
   "execution_count": 19,
   "metadata": {},
   "outputs": [
    {
     "name": "stdout",
     "output_type": "stream",
     "text": [
      "{'day': 'dia', 'table': 'mesa', 'cat': 'gato'}\n"
     ]
    }
   ],
   "source": [
    "dicionario = {'day': 'dia', 'table': 'mesa', 'cat': 'gato'}\n",
    "print(dicionario)"
   ]
  },
  {
   "cell_type": "markdown",
   "metadata": {},
   "source": [
    "No exemplo, as palavras em inglês são chamadas de **chaves** e as em português de **valores**. Assim, um dicionário é um conjunto de zero ou mais pares *chave-valor*.\n",
    "\n",
    "Para obter um valor basta informar a chave:"
   ]
  },
  {
   "cell_type": "code",
   "execution_count": 20,
   "metadata": {},
   "outputs": [
    {
     "name": "stdout",
     "output_type": "stream",
     "text": [
      "mesa\n"
     ]
    }
   ],
   "source": [
    "print(dicionario['table'])"
   ]
  },
  {
   "cell_type": "markdown",
   "metadata": {},
   "source": [
    "Como nas listas, é possível alterar, adicionar e remover dados do dicionário:"
   ]
  },
  {
   "cell_type": "code",
   "execution_count": 21,
   "metadata": {},
   "outputs": [
    {
     "name": "stdout",
     "output_type": "stream",
     "text": [
      "{'day': 'dia', 'table': 'mesa', 'cat': 'gatinho'}\n"
     ]
    }
   ],
   "source": [
    "dicionario['cat'] = 'gatinho'\n",
    "print(dicionario)"
   ]
  },
  {
   "cell_type": "code",
   "execution_count": 22,
   "metadata": {},
   "outputs": [
    {
     "name": "stdout",
     "output_type": "stream",
     "text": [
      "{'day': 'dia', 'table': 'mesa', 'cat': 'gatinho', 'dog': 'cão'}\n"
     ]
    }
   ],
   "source": [
    "dicionario.update(dog='cão')\n",
    "print(dicionario)"
   ]
  },
  {
   "cell_type": "code",
   "execution_count": 23,
   "metadata": {},
   "outputs": [
    {
     "name": "stdout",
     "output_type": "stream",
     "text": [
      "{'day': 'dia', 'table': 'mesa', 'cat': 'gatinho', 'dog': 'cão', 'camel': 'camelo'}\n"
     ]
    }
   ],
   "source": [
    "dicionario.update({'camel':'camelo'})\n",
    "print(dicionario)"
   ]
  },
  {
   "cell_type": "code",
   "execution_count": 24,
   "metadata": {},
   "outputs": [
    {
     "name": "stdout",
     "output_type": "stream",
     "text": [
      "{'day': 'dia', 'table': 'mesa', 'cat': 'gatinho', 'dog': 'cão', 'camel': 'camelo', 'cow': 'vaca'}\n"
     ]
    }
   ],
   "source": [
    "animal = 'cow'\n",
    "traducao = 'vaca'\n",
    "dicionario.update({animal:traducao})\n",
    "print(dicionario)"
   ]
  },
  {
   "cell_type": "code",
   "execution_count": 25,
   "metadata": {},
   "outputs": [
    {
     "name": "stdout",
     "output_type": "stream",
     "text": [
      "{'table': 'mesa', 'cat': 'gatinho', 'dog': 'cão', 'camel': 'camelo', 'cow': 'vaca'}\n"
     ]
    }
   ],
   "source": [
    "del dicionario['day']\n",
    "print(dicionario)"
   ]
  },
  {
   "cell_type": "markdown",
   "metadata": {},
   "source": [
    "Como os índices (chaves) podem ser qualquer valor é importante saber se uma chave faz parte do dicionário:"
   ]
  },
  {
   "cell_type": "code",
   "execution_count": 26,
   "metadata": {},
   "outputs": [
    {
     "data": {
      "text/plain": [
       "True"
      ]
     },
     "execution_count": 26,
     "metadata": {},
     "output_type": "execute_result"
    }
   ],
   "source": [
    "'cat' in dicionario"
   ]
  },
  {
   "cell_type": "code",
   "execution_count": 27,
   "metadata": {},
   "outputs": [
    {
     "data": {
      "text/plain": [
       "False"
      ]
     },
     "execution_count": 27,
     "metadata": {},
     "output_type": "execute_result"
    }
   ],
   "source": [
    "'wolf' in dicionario"
   ]
  },
  {
   "cell_type": "markdown",
   "metadata": {},
   "source": [
    "Importante: usar colchetes para obter um valor de um dicionário só funciona se a chave informada existe. Podemos usar a seguinte forma quando não temos certeza disso:"
   ]
  },
  {
   "cell_type": "code",
   "execution_count": 28,
   "metadata": {},
   "outputs": [
    {
     "name": "stdout",
     "output_type": "stream",
     "text": [
      "{'table': 'mesa', 'cat': 'gatinho', 'dog': 'cão', 'camel': 'camelo', 'cow': 'vaca'}\n"
     ]
    }
   ],
   "source": [
    "print(dicionario)"
   ]
  },
  {
   "cell_type": "code",
   "execution_count": 29,
   "metadata": {},
   "outputs": [
    {
     "name": "stdout",
     "output_type": "stream",
     "text": [
      "mesa\n"
     ]
    }
   ],
   "source": [
    "resultado_table = dicionario.get('table')\n",
    "print(resultado_table)"
   ]
  },
  {
   "cell_type": "code",
   "execution_count": 30,
   "metadata": {},
   "outputs": [
    {
     "name": "stdout",
     "output_type": "stream",
     "text": [
      "None\n"
     ]
    }
   ],
   "source": [
    "resultado_garfo = dicionario.get('fork')\n",
    "print(resultado_garfo)"
   ]
  },
  {
   "cell_type": "markdown",
   "metadata": {},
   "source": [
    "\n",
    "\n",
    "Como nas listas, dicionários podem realizar diversas outras operações. Consulte a documentação para saber quais."
   ]
  },
  {
   "cell_type": "markdown",
   "metadata": {},
   "source": [
    "## Tuplas\n",
    "Tuplas são muito parecidas com listas mas possuem uma diferença fundamental: a quantidade de dados e o conteúdo de uma tupla não pode ser alterado.\n",
    "\n"
   ]
  },
  {
   "cell_type": "code",
   "execution_count": 31,
   "metadata": {},
   "outputs": [
    {
     "name": "stdout",
     "output_type": "stream",
     "text": [
      "(13, 24, 33, 14)\n"
     ]
    }
   ],
   "source": [
    "tupla1 = (13, 24, 33, 14)   # variável tupla1 armazena 4 números\n",
    "print(tupla1)"
   ]
  },
  {
   "cell_type": "code",
   "execution_count": 32,
   "metadata": {},
   "outputs": [
    {
     "data": {
      "text/plain": [
       "13"
      ]
     },
     "execution_count": 32,
     "metadata": {},
     "output_type": "execute_result"
    }
   ],
   "source": [
    "tupla1[0]"
   ]
  },
  {
   "cell_type": "code",
   "execution_count": 33,
   "metadata": {},
   "outputs": [
    {
     "data": {
      "text/plain": [
       "14"
      ]
     },
     "execution_count": 33,
     "metadata": {},
     "output_type": "execute_result"
    }
   ],
   "source": [
    "tupla1[3]"
   ]
  },
  {
   "cell_type": "code",
   "execution_count": 34,
   "metadata": {},
   "outputs": [
    {
     "name": "stdout",
     "output_type": "stream",
     "text": [
      "13\n",
      "24\n",
      "33\n",
      "14\n"
     ]
    }
   ],
   "source": [
    "for numero in tupla1:\n",
    "    print(numero)"
   ]
  },
  {
   "cell_type": "code",
   "execution_count": 35,
   "metadata": {},
   "outputs": [
    {
     "data": {
      "text/plain": [
       "4"
      ]
     },
     "execution_count": 35,
     "metadata": {},
     "output_type": "execute_result"
    }
   ],
   "source": [
    "len(tupla1)"
   ]
  },
  {
   "cell_type": "code",
   "execution_count": 36,
   "metadata": {},
   "outputs": [
    {
     "name": "stdout",
     "output_type": "stream",
     "text": [
      "(8,)\n"
     ]
    }
   ],
   "source": [
    "tupla2 = (8,)  # observe que deve haver uma vírgula depois do número\n",
    "print(tupla2)"
   ]
  },
  {
   "cell_type": "code",
   "execution_count": 37,
   "metadata": {},
   "outputs": [
    {
     "data": {
      "text/plain": [
       "1"
      ]
     },
     "execution_count": 37,
     "metadata": {},
     "output_type": "execute_result"
    }
   ],
   "source": [
    "len(tupla2)"
   ]
  },
  {
   "cell_type": "markdown",
   "metadata": {},
   "source": [
    "## Cadeias de caracteres (strings)\n",
    "Uma palavra ou frase é uma coleção de caracteres individuais. Assim como as tuplas, cadeias de caracteres não podem ser alteradas."
   ]
  },
  {
   "cell_type": "code",
   "execution_count": 38,
   "metadata": {},
   "outputs": [
    {
     "name": "stdout",
     "output_type": "stream",
     "text": [
      "transiberiana\n"
     ]
    }
   ],
   "source": [
    "palavra = 'transiberiana'\n",
    "print(palavra)"
   ]
  },
  {
   "cell_type": "code",
   "execution_count": 39,
   "metadata": {},
   "outputs": [
    {
     "data": {
      "text/plain": [
       "13"
      ]
     },
     "execution_count": 39,
     "metadata": {},
     "output_type": "execute_result"
    }
   ],
   "source": [
    "len(palavra)"
   ]
  },
  {
   "cell_type": "code",
   "execution_count": 40,
   "metadata": {},
   "outputs": [
    {
     "name": "stdout",
     "output_type": "stream",
     "text": [
      "t\n",
      "r\n",
      "a\n",
      "n\n",
      "s\n",
      "i\n",
      "b\n",
      "e\n",
      "r\n",
      "i\n",
      "a\n",
      "n\n",
      "a\n"
     ]
    }
   ],
   "source": [
    "for letra in palavra:\n",
    "    print(letra)"
   ]
  },
  {
   "cell_type": "code",
   "execution_count": 41,
   "metadata": {},
   "outputs": [
    {
     "data": {
      "text/plain": [
       "'r'"
      ]
     },
     "execution_count": 41,
     "metadata": {},
     "output_type": "execute_result"
    }
   ],
   "source": [
    "palavra[1]"
   ]
  },
  {
   "cell_type": "markdown",
   "metadata": {},
   "source": [
    "Uma cadeia de caracteres pode ser formada também por uma sequência de palavras:"
   ]
  },
  {
   "cell_type": "code",
   "execution_count": 42,
   "metadata": {},
   "outputs": [
    {
     "name": "stdout",
     "output_type": "stream",
     "text": [
      "boa noite\n"
     ]
    }
   ],
   "source": [
    "frase = 'boa noite'\n",
    "print(frase)"
   ]
  },
  {
   "cell_type": "code",
   "execution_count": 43,
   "metadata": {},
   "outputs": [
    {
     "name": "stdout",
     "output_type": "stream",
     "text": [
      "9\n"
     ]
    }
   ],
   "source": [
    "print(len(frase))"
   ]
  },
  {
   "cell_type": "code",
   "execution_count": 44,
   "metadata": {},
   "outputs": [
    {
     "name": "stdout",
     "output_type": "stream",
     "text": [
      "b\n",
      "o\n",
      "a\n",
      " \n",
      "n\n",
      "o\n",
      "i\n",
      "t\n",
      "e\n"
     ]
    }
   ],
   "source": [
    "for letra in frase:\n",
    "    print(letra)"
   ]
  },
  {
   "cell_type": "markdown",
   "metadata": {},
   "source": [
    "Observe que o espaço em branco entre as palavras *boa* e *noite*  também é considerado um caracter (também é uma letra):"
   ]
  },
  {
   "cell_type": "code",
   "execution_count": 45,
   "metadata": {},
   "outputs": [
    {
     "name": "stdout",
     "output_type": "stream",
     "text": [
      "boa noite\n",
      "b\n",
      "a\n",
      " \n",
      "n\n"
     ]
    }
   ],
   "source": [
    "print(frase)       # mostrar todos os caracteres\n",
    "print(frase[0])    # mostrar o primeiro caracter, letra b\n",
    "print(frase[2])    # mostrar o terceiro caracter, letra a \n",
    "print(frase[3])    # mostrar o quarto caracter, \"letra\" espaço em branco\n",
    "print(frase[4])    # mostrar o quinto caracter, letra n"
   ]
  },
  {
   "cell_type": "markdown",
   "metadata": {},
   "source": [
    "## Combinando coleções\n",
    "Nos exemplos mostrados as coleções continham números ou então strings (cadeias de caracteres). O conteúdo de uma coleção pode ser qualquer tipo de informação, incluindo coleções.\n",
    "\n",
    "No exemplo a seguir, um dicionário é usado para armazenar listas de números."
   ]
  },
  {
   "cell_type": "code",
   "execution_count": 46,
   "metadata": {},
   "outputs": [],
   "source": [
    "apostas_mega_sena = {\n",
    "    'pedro': [3, 8, 12, 34, 44, 45],\n",
    "    'ana': [1, 2, 3, 4, 5, 6],\n",
    "    'mauro': [10, 20, 30, 40, 50, 51, 52, 53]\n",
    "}"
   ]
  },
  {
   "cell_type": "code",
   "execution_count": 47,
   "metadata": {},
   "outputs": [
    {
     "data": {
      "text/plain": [
       "{'pedro': [3, 8, 12, 34, 44, 45],\n",
       " 'ana': [1, 2, 3, 4, 5, 6],\n",
       " 'mauro': [10, 20, 30, 40, 50, 51, 52, 53]}"
      ]
     },
     "execution_count": 47,
     "metadata": {},
     "output_type": "execute_result"
    }
   ],
   "source": [
    "apostas_mega_sena"
   ]
  },
  {
   "cell_type": "code",
   "execution_count": 48,
   "metadata": {},
   "outputs": [],
   "source": [
    "apostas_da_ana = apostas_mega_sena['ana']"
   ]
  },
  {
   "cell_type": "code",
   "execution_count": 49,
   "metadata": {},
   "outputs": [
    {
     "data": {
      "text/plain": [
       "[1, 2, 3, 4, 5, 6]"
      ]
     },
     "execution_count": 49,
     "metadata": {},
     "output_type": "execute_result"
    }
   ],
   "source": [
    "apostas_da_ana"
   ]
  },
  {
   "cell_type": "code",
   "execution_count": 50,
   "metadata": {},
   "outputs": [],
   "source": [
    "# alterar o primeiro número da aposta da ana para 50\n",
    "apostas_mega_sena['ana'][0] = 50"
   ]
  },
  {
   "cell_type": "code",
   "execution_count": 51,
   "metadata": {},
   "outputs": [
    {
     "data": {
      "text/plain": [
       "[50, 2, 3, 4, 5, 6]"
      ]
     },
     "execution_count": 51,
     "metadata": {},
     "output_type": "execute_result"
    }
   ],
   "source": [
    "apostas_mega_sena['ana']"
   ]
  }
 ],
 "metadata": {
  "kernelspec": {
   "display_name": "Python 3",
   "language": "python",
   "name": "python3"
  },
  "language_info": {
   "codemirror_mode": {
    "name": "ipython",
    "version": 3
   },
   "file_extension": ".py",
   "mimetype": "text/x-python",
   "name": "python",
   "nbconvert_exporter": "python",
   "pygments_lexer": "ipython3",
   "version": "3.6.6"
  }
 },
 "nbformat": 4,
 "nbformat_minor": 2
}
