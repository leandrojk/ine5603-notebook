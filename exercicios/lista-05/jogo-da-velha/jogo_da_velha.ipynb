{
 "cells": [
  {
   "cell_type": "markdown",
   "metadata": {},
   "source": [
    "### UFSC - CTC - INE - INE5603\n",
    "\n",
    "#### Prof. Leandro José Komosinski\n",
    "\n",
    "# Exercício Jogo da Velha\n",
    "Implementar o Jogo da Velha. Para isso implemente a classe `Tabuleiro` e  a classe `Partida`.\n",
    "\n",
    "## Classe Tabuleiro\n",
    "\n",
    "A classe `Tabuleiro` que representa um tabuleiro do Jogo da Velha. A classe deve atender às seguintes características:\n",
    "\n",
    "* método que retorna o caracter que está sem uma casa. A resposta deve ser `X`,`O` ou `.` (para representar uma casa vazia). **IMPORTANTE**: linha e coluna iniciam em 1. Esta definição vale para todos os métodos onde é necessário informar a linha e a coluna.\n",
    "\n",
    "* método para marcar com **X** uma casa. Retorna `True` se conseguiu marcar ou `False` se não conseguiu porque a casa não estava vazia.\n",
    "\n",
    "* método para marcar com **O** uma casa. Retorna `True` se conseguiu marcar ou `False` se não conseguiu porque a casa não estava vazia.\n",
    "\n",
    "* método que verifica se há pelo menos uma casa vazia no tabuleiro.\n",
    "\n",
    "* método que verifica se o jogador que marca com **X** venceu.\n",
    "\n",
    "* método que verifica se o jogador que marca com **O** venceu.\n",
    "\n",
    "* método que retorna o caracter do jogador que venceu ou então retorna `None` para indicar que não há vencedor.\n",
    "\n",
    "* método que retorna uma cópia das casas do tabuleiro."
   ]
  },
  {
   "cell_type": "markdown",
   "metadata": {},
   "source": [
    "## Classe Partida\n",
    "A classe `Partida` deve implementar a lógica de execução de uma partida completa, incluindo exibir a situação do tabuleiro e solicitar as jogadas aos jogadores.\n",
    "\n",
    "Considere que uma partida será jogada por duas pessoas que irão se alternando para usar o teclado.\n",
    "\n",
    "A implementação deve garantir que:\n",
    "\n",
    "* o jogador sempre escolha uma casa possível, ou seja, linha e coluna da jogada deve ser um número entre 1 e 3.\n",
    "\n",
    "* o jogador é obrigado a escolher uma casa vazia.\n",
    "\n",
    "* ao final do jogo deve mostrar na tela o resultado da partida."
   ]
  }
 ],
 "metadata": {
  "kernelspec": {
   "display_name": "Python 3",
   "language": "python",
   "name": "python3"
  },
  "language_info": {
   "codemirror_mode": {
    "name": "ipython",
    "version": 3
   },
   "file_extension": ".py",
   "mimetype": "text/x-python",
   "name": "python",
   "nbconvert_exporter": "python",
   "pygments_lexer": "ipython3",
   "version": "3.6.6"
  }
 },
 "nbformat": 4,
 "nbformat_minor": 2
}
