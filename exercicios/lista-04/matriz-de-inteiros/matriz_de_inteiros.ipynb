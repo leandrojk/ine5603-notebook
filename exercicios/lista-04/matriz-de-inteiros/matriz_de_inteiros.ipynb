{
 "cells": [
  {
   "cell_type": "markdown",
   "metadata": {},
   "source": [
    "### UFSC - CTC - INE - INE5603\n",
    "\n",
    "#### Prof. Leandro José Komosinski\n",
    "\n",
    "# Exercício da Matriz de Inteiros\n",
    "Implementar a classe `MatrizDeInteiros` que representa uma matriz de números inteiros e que atende a seguinte especificação:\n",
    "\n",
    "* ao ser criada, sabe-se: \n",
    "    * **ou** o número de linhas e de colunas da matriz, representados por uma tupla de dois números. A matriz deverá armazenar números zero. Por exemplo, para criar uma matriz 3x4 deve-se instanciar o objeto da seguinte forma: `m = MatrizDeInteiros((3,4))`.\n",
    "    * **ou** os números da matriz representados na forma de uma lista de lista de números. Por exemplo, para criar uma matriz de 2 linhas e 3 colunas deve-se instanciar o objeto da seguinte forma: `m = MatrizDeInteiros([[8, 3, 4], [1, 3, 4]])` .\n",
    "\n",
    "* alterar um número fornecendo a linha, a coluna e o número. **IMPORTANTE**: a primeira linha deve ser representada pelo número 1 e o mesmo vale para a primeira coluna.\n",
    "\n",
    "* obter um número fornecendo a linha e a coluna. **IMPORTANTE**: a primeira linha deve ser representada pelo número 1 e o mesmo vale para a primeira coluna.\n",
    "\n",
    "* obter quantas linhas tem a matriz.\n",
    "\n",
    "* obter quantas colunas tem a matriz.\n",
    "\n",
    "* obter a soma dos números de uma determinada linha. **IMPORTANTE**: a primeira linha deve ser representada pelo número 1.\n",
    "\n",
    "* obter a soma dos números de uma determinada coluna. **IMPORTANTE**: a coluna linha deve ser representada pelo número 1.\n",
    "\n",
    "* obter a soma de cada uma das linhas. Assim, se a matriz tem N linhas então deve retornar uma lista com N resultados.\n",
    "\n",
    "* obter a soma de todos os números da matriz.\n",
    "\n",
    "* multiplicar os números da matriz por um determinado fator (número).\n",
    "\n",
    "* obter uma cópia da matriz.\n",
    "\n",
    "* adicionar a matriz com outra matriz. Se não for possível, retorna `None`. Como nome do método use `__add__`. Com isso será possível escrever o seguinte código: `c = a + b`  para representar que a matriz `c` é o resultado da soma das matrizes `a` e `b`.\n",
    "\n",
    "* multiplicar a matriz com outra matriz. Se não for possível, retorna `None`. Como nome do método use `__mul__`. Com isso será possível escrever o seguinte código: `c = a * b`  para representar que a matriz `c` é o resultado da multiplicação das matrizes `a` e `b`."
   ]
  },
  {
   "cell_type": "markdown",
   "metadata": {},
   "source": [
    "### Dicas\n",
    "Para inicializar uma matriz 4 x 3 com zeros:"
   ]
  },
  {
   "cell_type": "code",
   "execution_count": 1,
   "metadata": {},
   "outputs": [
    {
     "data": {
      "text/plain": [
       "[[0, 0, 0], [0, 0, 0], [0, 0, 0], [0, 0, 0]]"
      ]
     },
     "execution_count": 1,
     "metadata": {},
     "output_type": "execute_result"
    }
   ],
   "source": [
    "[ [0] * 3 for _ in range(4)]"
   ]
  },
  {
   "cell_type": "markdown",
   "metadata": {},
   "source": [
    "Para saber se uma variável representa uma tupla:"
   ]
  },
  {
   "cell_type": "code",
   "execution_count": 2,
   "metadata": {},
   "outputs": [
    {
     "data": {
      "text/plain": [
       "True"
      ]
     },
     "execution_count": 2,
     "metadata": {},
     "output_type": "execute_result"
    }
   ],
   "source": [
    "a = (3,4)\n",
    "type(a) is tuple"
   ]
  },
  {
   "cell_type": "code",
   "execution_count": 3,
   "metadata": {},
   "outputs": [
    {
     "data": {
      "text/plain": [
       "False"
      ]
     },
     "execution_count": 3,
     "metadata": {},
     "output_type": "execute_result"
    }
   ],
   "source": [
    "a = [[2,3], [8,4]]\n",
    "type(a) is tuple"
   ]
  },
  {
   "cell_type": "markdown",
   "metadata": {},
   "source": [
    "Para acessar os números da matriz é preciso fornecer a linha e a coluna."
   ]
  },
  {
   "cell_type": "code",
   "execution_count": 2,
   "metadata": {},
   "outputs": [
    {
     "data": {
      "text/plain": [
       "8"
      ]
     },
     "execution_count": 2,
     "metadata": {},
     "output_type": "execute_result"
    }
   ],
   "source": [
    "# os dados de uma matriz 2x3\n",
    "dados = [[8,23,12], [10,24, 55]]\n",
    "\n",
    "# linha 1, coluna 1\n",
    "a11 = dados[0][0]\n",
    "a11"
   ]
  },
  {
   "cell_type": "code",
   "execution_count": 3,
   "metadata": {},
   "outputs": [
    {
     "data": {
      "text/plain": [
       "55"
      ]
     },
     "execution_count": 3,
     "metadata": {},
     "output_type": "execute_result"
    }
   ],
   "source": [
    "# linha 2, coluna 3\n",
    "a23 = dados[1][2]\n",
    "a23"
   ]
  },
  {
   "cell_type": "code",
   "execution_count": 4,
   "metadata": {},
   "outputs": [
    {
     "data": {
      "text/plain": [
       "[[8, 23, 100], [10, 24, 55]]"
      ]
     },
     "execution_count": 4,
     "metadata": {},
     "output_type": "execute_result"
    }
   ],
   "source": [
    "# alterar o número da linha 1, coluna 3\n",
    "dados[0][2] = 100\n",
    "dados"
   ]
  },
  {
   "cell_type": "markdown",
   "metadata": {},
   "source": [
    "Usando um único índice temos acesso a todos os números presentes em uma linha."
   ]
  },
  {
   "cell_type": "code",
   "execution_count": 5,
   "metadata": {},
   "outputs": [
    {
     "data": {
      "text/plain": [
       "[8, 23, 100]"
      ]
     },
     "execution_count": 5,
     "metadata": {},
     "output_type": "execute_result"
    }
   ],
   "source": [
    "primeira_linha = dados[0]\n",
    "primeira_linha"
   ]
  }
 ],
 "metadata": {
  "kernelspec": {
   "display_name": "Python 3",
   "language": "python",
   "name": "python3"
  },
  "language_info": {
   "codemirror_mode": {
    "name": "ipython",
    "version": 3
   },
   "file_extension": ".py",
   "mimetype": "text/x-python",
   "name": "python",
   "nbconvert_exporter": "python",
   "pygments_lexer": "ipython3",
   "version": "3.6.6"
  }
 },
 "nbformat": 4,
 "nbformat_minor": 2
}
