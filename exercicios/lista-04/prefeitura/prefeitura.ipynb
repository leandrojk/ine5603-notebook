{
 "cells": [
  {
   "cell_type": "markdown",
   "metadata": {},
   "source": [
    "### UFSC - CTC - INE - INE5603\n",
    "\n",
    "#### Prof. Leandro José Komosinski\n",
    "\n",
    "# Exercícios da Prefeitura\n",
    "\n",
    "Implementar o que é solicitado a seguir. Estas definições poderiam fazer parte de um software de apoio à gestão de prefeituras.\n",
    "\n",
    "## Classe Cidadao\n",
    "\n",
    "Um objeto da classe `Cidadao` representa um cidadão e possui as seguintes características:\n",
    "\n",
    "* ao ser criado sabe-se o ano de nascimento e a renda do cidadão.\n",
    "\n",
    "* é capaz de informar o ano de nascimento do cidadão.\n",
    "\n",
    "* é capaz de informar a renda do cidadão.\n",
    "\n",
    "* é capaz de informar a idade do cidadão fornecendo-se um ano."
   ]
  },
  {
   "cell_type": "markdown",
   "metadata": {},
   "source": [
    "## Classe Prefeitura\n",
    "Um objeto da classe `Prefeitura` representa uma prefeitura e permite que se obtenha vários dados a respeito dos cidadãos que estão sob administração desta prefeitura. O objeto possui as seguintes características:\n",
    "\n",
    "* ao ser criada sabe-se o nome do município e uma lista contendo os cidadãos deste município.\n",
    "\n",
    "* é capaz de informar o nome do município.\n",
    "\n",
    "* é capaz de informar quantos cidadãos há no município.\n",
    "\n",
    "* é capaz de informar qual seria o orçamento mensal necessário para implantar uma Política de Renda Mínima e quantas pessoas seriam atendidas. Por esta política, a prefeitura garante que nenhum cidadão tenha uma renda abaixo de uma certa renda mínima. A prefeitura iria, com o orçamento calculado, complementar a renda do cidadão até atingir a renda mínima. O método recebe a renda mínima desejada e retorna uma **tupla** contendo o orçamento necessário e a quantidade de pessoas atendidas.\n",
    "\n",
    "* é capaz de calcular a renda média dos cidadãos.\n",
    "\n",
    "* é capaz de calcular a renda média dos cidadãos que estão em uma certa faixa etária. Deve retornar `None` caso não haja nenhum cidadão na faixa etária. **Deduza** quais são, além do `self`, os três parâmetros necessários.\n",
    "\n",
    "* é capaz de informar quantos idosos há na população. **Deduza** quais são, além do `self`, os parâmetros necessários.\n",
    "\n",
    "* é capaz de fornecer uma lista com os cidadãos cuja renda é superior a uma determinada renda.\n",
    "\n",
    "* é capaz de fornecer uma lista com os N primeiros cidadãos cuja renda é inferior a uma determinada renda. Atenção: talvez haja menos de N cidadãos nesta situação."
   ]
  },
  {
   "cell_type": "markdown",
   "metadata": {},
   "source": [
    "## Função gera_populacao_aleatoria\n",
    "Esta função deve gerar uma lista contendo objetos da classe `Cidadao` com base nos seguintes parâmetros:\n",
    "\n",
    "* quantidade de cidadãos. Default = 10000\n",
    "\n",
    "* menor ano de nascimento possível. Default = 1900\n",
    "\n",
    "* maior idade possível. Default = 115\n",
    "\n",
    "* menor renda possível. Default = 1200\n",
    "\n",
    "* incremento da renda. Default = 50\n",
    "\n",
    "* quantidade possíveis de renda. Default = 5\n",
    "\n",
    "Com estes parâmetros, o ano de nascimento e a renda de cada cidadão deve ser gerada aleatoriamente. \n",
    "\n",
    "Por exemplo, em relação ao ano de nascimento, considerando os valores default, os anos possíveis seriam: 1900, 1901, 1902, ..., 2012, 2013, 2014 e 2015. \n",
    "\n",
    "Por exemplo, em relação à renda, considerando os valores default, as rendas possíveis seriam: 1200, 1250, 1300, 1350 e 1400. Note que a menor renda possível é 1200, aumenta de R$50,00 em R$50,00 e há 5 rendas possíveis.\n",
    "\n",
    "### Dica\n",
    "A função `randrange` gera valores aleatórios. Por exemplo:"
   ]
  },
  {
   "cell_type": "code",
   "execution_count": 1,
   "metadata": {},
   "outputs": [
    {
     "name": "stdout",
     "output_type": "stream",
     "text": [
      "10\n",
      "11\n",
      "10\n",
      "11\n",
      "10\n",
      "11\n",
      "10\n",
      "11\n",
      "11\n",
      "11\n",
      "11\n",
      "11\n",
      "10\n",
      "10\n",
      "10\n",
      "10\n",
      "10\n",
      "10\n",
      "10\n",
      "11\n"
     ]
    }
   ],
   "source": [
    "from random import randrange\n",
    "\n",
    "for _ in range(20):\n",
    "    print(randrange(10, 12))  # gera um número aleatório que será 10 ou 11"
   ]
  },
  {
   "cell_type": "markdown",
   "metadata": {},
   "source": [
    "## Função gera_populacao_fixa\n",
    "Esta função deve gerar uma lista contendo objetos da classe `Cidadao` cujos dados são fixos, ou seja, são definidos explicitamente na função."
   ]
  }
 ],
 "metadata": {
  "kernelspec": {
   "display_name": "Python 3",
   "language": "python",
   "name": "python3"
  },
  "language_info": {
   "codemirror_mode": {
    "name": "ipython",
    "version": 3
   },
   "file_extension": ".py",
   "mimetype": "text/x-python",
   "name": "python",
   "nbconvert_exporter": "python",
   "pygments_lexer": "ipython3",
   "version": "3.6.6"
  }
 },
 "nbformat": 4,
 "nbformat_minor": 2
}
