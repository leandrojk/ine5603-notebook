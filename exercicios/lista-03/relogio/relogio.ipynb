{
 "cells": [
  {
   "cell_type": "markdown",
   "metadata": {},
   "source": [
    "### UFSC - CTC - INE - INE5603\n",
    "#### Prof. Leandro José Komosinski\n",
    "\n",
    "# Exercício do Relógio\n",
    "\n",
    "Um relógio é um objeto utilizado para marcar o tempo (hora, minuto e segundo). Implemente a classe `Relogio` com as seguintes características:\n",
    "\n",
    "* ao ser criado, pode-se informar qualquer uma das seguintes informações (as informações ausentes devem assumir o valor zero):\n",
    "    * não informar nenhum valor.\n",
    "    * informar apenas as horas.\n",
    "    * informar apenas os minutos.\n",
    "    * informar apenas os segundos.\n",
    "    * informar apenas as horas e os minutos.\n",
    "    * informar apenas as horas e os segundos.\n",
    "    * informar apenas os minutos e os segundos.\n",
    "    * DICA: utilize valores default\n",
    "    \n",
    "* método que altere as horas marcadas pelo relógio.\n",
    "\n",
    "* método que altere os minutos marcados pelo relógio.\n",
    "\n",
    "* método que altere os segundos marcados pelo relógio.\n",
    "\n",
    "* método que retorne as horas marcadas pelo relógio.\n",
    "\n",
    "* método que retorne os minutos marcados pelo relógio.\n",
    "\n",
    "* método que retorne os segundos marcados pelo relógio.\n",
    "\n",
    "* método que altere as horas, os minutos e os segundos marcados pelo relógio.\n",
    "\n",
    "* método que retorne uma tupla contendo as horas, os minutos e os segundos marcados pelo relógio.\n",
    "\n",
    "* método que avança em 1 segundo o tempo marcado pelo relógio. Note que às vezes será necessário atualizar os minutos e as horas marcados pelo relógio.\n",
    "\n",
    "* método que compara o relógio com outro relógio e retorna: 0 (zero) se ambos os relógios estiverem marcando extatamente o mesmo horário; -1 se o relógio estiver atrazado em relação ao outro relógio; +1 se o relógio estiver adiantado em relação ao outro relógio."
   ]
  }
 ],
 "metadata": {
  "kernelspec": {
   "display_name": "Python 3",
   "language": "python",
   "name": "python3"
  },
  "language_info": {
   "codemirror_mode": {
    "name": "ipython",
    "version": 3
   },
   "file_extension": ".py",
   "mimetype": "text/x-python",
   "name": "python",
   "nbconvert_exporter": "python",
   "pygments_lexer": "ipython3",
   "version": "3.6.6"
  }
 },
 "nbformat": 4,
 "nbformat_minor": 2
}
