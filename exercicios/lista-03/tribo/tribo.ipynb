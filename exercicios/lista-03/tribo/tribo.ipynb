{
 "cells": [
  {
   "cell_type": "markdown",
   "metadata": {},
   "source": [
    "### UFSC - CTC - INE - INE5603\n",
    "\n",
    "#### Prof. Leandro José Komosinski\n",
    "\n",
    "# Exercício da Tribo\n",
    "\n",
    "Implementar as classes `Guerreiro` e `Tribo` conforme as especificações a seguir.\n",
    "\n",
    "## Classe Guerreiro\n",
    "\n",
    "Um objeto da classe `Guerreiro`  representa um guerreiro. Esta classe deve ter os seguintes métodos:\n",
    "\n",
    "* Ao ser criado, sabe-se o nome do guerreiro e o número máximo de vidas que ele pode ter. O guerreiro nasce já tendo o número máximo de vidas.\n",
    "\n",
    "* retorna o nome do guerreiro.\n",
    "\n",
    "* retorna o número máximo de vidas do guerreiro.\n",
    "\n",
    "* retorna quantas vidas tem o guerreiro.\n",
    "\n",
    "* verifica se o guerreiro está vivo. Um guerreiro está vivo se tiver pelo menos uma vida.\n",
    "\n",
    "* tira uma vida do guerreiro. Nenhum guerreiro pode ficar com menos de zero vidas.\n",
    "\n",
    "* dá uma vida ao guerreiro. Nenhum guerreiro pode ter mais vidas que o máximo de vidas.\n",
    "\n",
    "* retorna uma cópia do guerreiro. Uma cópia é outro guerreiro que possui exatamente os mesmos dados do guerreiro original, que é quem gera a cópia.\n"
   ]
  },
  {
   "cell_type": "markdown",
   "metadata": {},
   "source": [
    "## Classe Tribo\n",
    "Um objeto da classe `Tribo` representa uma tribo. Esta classe deve ter os seguintes métodos:\n",
    "\n",
    "* Ao ser criada, sabe-se o nome da tribo, a quantidade máxima de guerreiros que podem pertencer à tribo e o número máximo de vidas que guerreiros desta tribo podem ter. A tribo, inicialmente, não possui nenhum guerreiro.\n",
    "\n",
    "* retorna o nome da tribo.\n",
    "\n",
    "* retorna o número máximo de vidas que os guerreiros desta tribo podem ter.\n",
    "\n",
    "* retorna a quantidade máxima de guerreiros que a tribo pode ter.\n",
    "\n",
    "* retorna a quantidade de guerreiros vivos.\n",
    "\n",
    "* retorna a quantidade de guerreiros mortos.\n",
    "\n",
    "* retorna a quantidade total de guerreiros da tribo (vivos + mortos).\n",
    "\n",
    "* adiciona um guerreiro na tribo fornecendo o seu nome. Não pode haver outro guerreiro com esse nome. O método deve retornar:\n",
    "    * 0 para indicar que a inserção do guerreiro foi feita com sucesso.\n",
    "    * 1 para indicar que a inserção não foi feita porque não havia mais lugar na tribo.\n",
    "    * 2 para indicar que a inserção não foi feita porque já havia um guerreiro na tribo com o mesmo nome.\n",
    "    \n",
    "* remove um guerreiro fornecendo o seu nome. O método retorna `True` para indicar que a remoção foi feita com sucesso ou `False` para indicar que não há guerreiro com o nome fornecido.\n",
    "\n",
    "* cura um guerreiro fornecendo o seu nome. O método dá mais uma vida ao guerreiro e retorna `True` para indicar que a cura foi realizada ou `False` para indicar que não há guerreiro com o nome fornecido.\n",
    "\n",
    "* fere um guerreiro fornecendo o seu nome. O método retira uma vida do guerreiro e retorna `True` para indicar que o ferimento foi realizado ou `False` para indicar que não há guerreiro com o nome fornecido.\n",
    "\n",
    "* retorna uma cópia de um guerreiro fornecendo o seu nome. O método retorna a cópia do guerreiro ou `None` para indicar que não há guerreiro com o nome fornecido.\n",
    "\n",
    "* retorna um dicionário contendo cópias dos guerreiros vivos. A chave é o nome do guerreiro e o valor é o guerreiro vivo.\n",
    "\n",
    "* retorna um dicionário contendo cópias dos guerreiros mortos. A chave é o nome do guerreiro e o valor é o guerreiro morto.\n",
    "\n",
    "\n",
    "### Dica\n",
    "Armazene os guerreiros na forma de um dicionário onde a chave é o nome do guerreiro e o valor é o guerreiro."
   ]
  }
 ],
 "metadata": {
  "kernelspec": {
   "display_name": "Python 3",
   "language": "python",
   "name": "python3"
  },
  "language_info": {
   "codemirror_mode": {
    "name": "ipython",
    "version": 3
   },
   "file_extension": ".py",
   "mimetype": "text/x-python",
   "name": "python",
   "nbconvert_exporter": "python",
   "pygments_lexer": "ipython3",
   "version": "3.6.6"
  }
 },
 "nbformat": 4,
 "nbformat_minor": 2
}
