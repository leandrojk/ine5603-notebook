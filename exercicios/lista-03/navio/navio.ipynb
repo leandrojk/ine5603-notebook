{
 "cells": [
  {
   "cell_type": "markdown",
   "metadata": {},
   "source": [
    "### UFSC - CTC - INE - INE5603\n",
    "#### Prof. Leandro José Komosinski\n",
    "\n",
    "# Exercício do Navio\n",
    "Um **navio**, neste exercício, é uma embarcação usada para transportar **containers**. Você deve implementar as classes `Container` e `Navio` conforme as especificações a seguir.\n",
    "\n",
    "## Classe Container\n",
    "Um objeto da classe `Container` é caracterizado por ter um código, por exemplo, *CT020*  e um peso em Kg, por exemplo *560*. Eset peso é o peso total, incluindo o peso dos produtos que estão dentro do container.\n",
    "\n",
    "A classe deve ser implementada de modo que:\n",
    "\n",
    "* ao ser criado, já se sabe o código e o peso do container.\n",
    "\n",
    "* seja possível saber o código do container.\n",
    "\n",
    "* seja possível saber o peso do container."
   ]
  },
  {
   "cell_type": "markdown",
   "metadata": {},
   "source": [
    "## Classe Navio\n",
    "A classe `Navio` deve ser implementada de modo que:\n",
    "\n",
    "* ao ser criado, sabe-se quantos containers cabem no navio e o peso máximo que o navio pode transportar sem afundar.\n",
    "\n",
    "* seja possível saber a capacidade máxima do navio.\n",
    "\n",
    "* seja possível saber o peso máximo que o navio consegue carregar sem afundar.\n",
    "\n",
    "* seja possível saber quantos containers o navio está transportando.\n",
    "\n",
    "* seja possível saber o peso que o navio está transportando.\n",
    "\n",
    "* seja possível carregar um container informando o seu código e o seu peso. O método deve retornar `True` para indicar que o container foi carregado com sucesso ou `False` caso contrário. Há três motivos que impedem o carregamento de um container: 1) não há espaço; 2) o navio afundaria; 3) o navio já está carregando um container com o código informado.\n",
    "\n",
    "* seja possível descarregar um container informando o seu código. O método deve retornar um objeto da classe `Container` ou `None` para indicar que o navio não estava transportanto container com o código informado.\n",
    "\n",
    "* seja possível saber se o navio está transportanto um container informando o código do container.\n",
    "\n",
    "* seja possível saber a lista dos containers cujo peso estejam abaixo de um peso limite informado.\n",
    "\n",
    "### Dica\n",
    "Armazene os containers em um dicionário, onde a chave é o código do container e o valor é o container."
   ]
  }
 ],
 "metadata": {
  "kernelspec": {
   "display_name": "Python 3",
   "language": "python",
   "name": "python3"
  },
  "language_info": {
   "codemirror_mode": {
    "name": "ipython",
    "version": 3
   },
   "file_extension": ".py",
   "mimetype": "text/x-python",
   "name": "python",
   "nbconvert_exporter": "python",
   "pygments_lexer": "ipython3",
   "version": "3.6.6"
  }
 },
 "nbformat": 4,
 "nbformat_minor": 2
}
