{
 "cells": [
  {
   "cell_type": "markdown",
   "metadata": {},
   "source": [
    "### UFSC - CTC - INE - INE5603\n",
    "#### Prof. Leandro José Komosinski\n",
    "\n",
    "# Exercício do Balde\n",
    "Defina uma classe chamada `Balde` que represente um balde, um objeto usado para armazenar água.\n",
    "\n",
    "Defina a classe com as seguintes características:\n",
    "\n",
    "* ao ser criado, sabe-se a capacidade do balde (quantos litros cabem no balde) e o balde não deve conter água.\n",
    "\n",
    "* método que faz com que o balde fique cheio d'água.\n",
    "\n",
    "* método que faz com que o falde fique vazio (sem água).\n",
    "\n",
    "* método que verifique se o balde está cheio.\n",
    "\n",
    "* método que verique se o balde está vazio.\n",
    "\n",
    "* método que retorne a capacidade do balde.\n",
    "\n",
    "* método que retorne quantos litros o balde contém.\n",
    "\n",
    "* método que o balde derrame o máximo do seu conteúdo em outro balde sem que haja derramamento de água.\n",
    "\n",
    "* método que o balde receba o máximo de conteúdo de outro balde sem que haja derramamento de água."
   ]
  }
 ],
 "metadata": {
  "kernelspec": {
   "display_name": "Python 3",
   "language": "python",
   "name": "python3"
  },
  "language_info": {
   "codemirror_mode": {
    "name": "ipython",
    "version": 3
   },
   "file_extension": ".py",
   "mimetype": "text/x-python",
   "name": "python",
   "nbconvert_exporter": "python",
   "pygments_lexer": "ipython3",
   "version": "3.6.6"
  }
 },
 "nbformat": 4,
 "nbformat_minor": 2
}
